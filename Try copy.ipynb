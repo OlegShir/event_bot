{
 "metadata": {
  "language_info": {
   "codemirror_mode": {
    "name": "ipython",
    "version": 3
   },
   "file_extension": ".py",
   "mimetype": "text/x-python",
   "name": "python",
   "nbconvert_exporter": "python",
   "pygments_lexer": "ipython3",
   "version": "3.9.1"
  },
  "orig_nbformat": 2,
  "kernelspec": {
   "name": "python391jvsc74a57bd00d812c395b11b1c200509ac6c0bb3b674e303b6818cd492792c96e4ded76371e",
   "display_name": "Python 3.9.1 64-bit"
  },
  "metadata": {
   "interpreter": {
    "hash": "0d812c395b11b1c200509ac6c0bb3b674e303b6818cd492792c96e4ded76371e"
   }
  }
 },
 "nbformat": 4,
 "nbformat_minor": 2,
 "cells": [
  {
   "cell_type": "code",
   "execution_count": 1,
   "metadata": {},
   "outputs": [],
   "source": [
    "import requests\n",
    "from bs4 import BeautifulSoup as bs\n",
    "import lxml\n",
    "import json\n",
    "import constant\n",
    "import ast\n",
    "import re"
   ]
  },
  {
   "cell_type": "code",
   "execution_count": 3,
   "metadata": {},
   "outputs": [],
   "source": [
    "def get_html(url):\n",
    "    headers = {'User-Agent': 'Mozilla/5.0 (Windows NT 10.0; Win64; x64) AppleWebKit/537.36 (KHTML, like Gecko) Chrome/89.0.4389.90 Safari/537.36'}\n",
    "    r = requests.get(url, headers = headers)\n",
    "    return r"
   ]
  },
  {
   "cell_type": "code",
   "execution_count": 4,
   "metadata": {},
   "outputs": [],
   "source": [
    " r = get_html('https://www.fiesta.ru/spb/novelty/events/')"
   ]
  },
  {
   "cell_type": "code",
   "execution_count": 5,
   "metadata": {},
   "outputs": [
    {
     "output_type": "stream",
     "name": "stdout",
     "text": [
      "<Response [200]>\n"
     ]
    }
   ],
   "source": [
    "print(r)"
   ]
  },
  {
   "cell_type": "code",
   "execution_count": null,
   "metadata": {},
   "outputs": [],
   "source": [
    "id_parse,type_event, , , date_start, date_stop, cost, discounted, address, metro, "
   ]
  },
  {
   "cell_type": "code",
   "execution_count": null,
   "metadata": {},
   "outputs": [],
   "source": []
  },
  {
   "cell_type": "code",
   "execution_count": 45,
   "metadata": {
    "tags": []
   },
   "outputs": [
    {
     "output_type": "stream",
     "name": "stdout",
     "text": [
      "46825 Международная фотовыставка «Материнство в дикой природе» https://www.fiesta.ru//spb/events/mezhdunarodnaya-fotovystavka-materinstvo-v-dikoy-prirode/ https://www.fiesta.ru//uploads/slider_image/image/182037/slider_carousel_thumb_jBIbsLWU-SE.jpg 4 апреля 15 апреля \n",
      " None None\n",
      "\n",
      "\n",
      "46813 Выставка «Убежище. Welcome to the paradise» https://www.fiesta.ru//spb/events/vystavka-ubezhische-welcome-to-the-paradise/ https://www.fiesta.ru//uploads/slider_image/image/182008/slider_carousel_thumb_DSC_8546.jpg 4 апреля 23 мая \n",
      " м. Ладожская шоссе Революции, 84АБ\n",
      "\n",
      "\n",
      "30088 Вечеринки романтических знакомств от Dating-City  https://www.fiesta.ru//spb/events/vecherinki-romanticheskih-znakomstv-ot-dating-city/ https://www.fiesta.ru//uploads/slider_image/image/156426/slider_carousel_thumb_%D0%B1%D1%8119.jpg 9 апреля 11 апреля \n",
      " None None\n",
      "\n",
      "\n",
      "46394 «Гаражная распродажа в Порту» https://www.fiesta.ru//spb/events/garazhnaya-rasprodazha-v-portu/ https://www.fiesta.ru//uploads/slider_image/image/180465/slider_carousel_thumb_%D0%B3%D0%B0%D1%801.jpg 10 апреля 11 апреля \n",
      " м. Василеостровская Кожевенная линия, 40, 2-й этаж, пространство «Севкабель Порт»\n",
      "\n",
      "\n",
      "46765 Концерт «Антология голоса» https://www.fiesta.ru//spb/events/kontsert-antologiya-golosa/ https://www.fiesta.ru//uploads/slider_image/image/181854/slider_carousel_thumb_v880_%D0%B3%D0%BE%D0%BB%D1%81%D0%BE.jpg 11 апреля None \n",
      " м. Гостиный Двор наб. Фонтанки, 36, концертный зал РНБ\n",
      "\n",
      "\n",
      "46763 Концерт «Под музыку Вивальди» https://www.fiesta.ru//spb/events/kontsert-pod-muzyku-vivaldi/ https://www.fiesta.ru//uploads/slider_image/image/181847/slider_carousel_thumb_v880_%D0%BA%D0%B8%D1%80%D1%85%D0%B0.jpg 11 апреля None \n",
      " м. Василеостровская Средний проспект В.О., 18, лютеранская церковь Святого Михаила\n",
      "\n",
      "\n",
      "46754 Мультимедийное шоу «Гагарин Night» https://www.fiesta.ru//spb/events/multimediynoe-shou-gagarin-night/ https://www.fiesta.ru//uploads/slider_image/image/181821/slider_carousel_thumb_%D0%B3%D0%B0%D0%B3%D0%B0%D1%801.jpg 12 апреля None \n",
      " м. Горьковская Александровский парк, 4, Петербургский планетарий\n",
      "\n",
      "\n",
      "46721 Концерт Михаила Шуфутинского https://www.fiesta.ru//spb/events/kontsert-mihaila-shufutinskogo/ https://www.fiesta.ru//uploads/slider_image/image/181709/slider_carousel_thumb_%D1%88%D1%83%D0%B8%D1%84%D0%BA.jpg 8 апреля None \n",
      " м. Площадь Восстания Лиговский пр., 6, БКЗ «Октябрьский»\n",
      "\n",
      "\n",
      "46711 Петербургский ресторанный фестиваль https://www.fiesta.ru//spb/events/v-peterburge-proydyot-restorannyy-festival-gde-mozhno-otvedat-izyskannye-sety-ot/ https://www.fiesta.ru//uploads/slider_image/image/181687/slider_carousel_thumb_Mezzanine-set-scaled.jpg 1 апреля 15 апреля \n",
      " None None\n",
      "\n",
      "\n",
      "46313 Выставка «(Не)подвижность. Русская классическая скульптура от Ф. И. Шубина до А. Т. Матвеева» https://www.fiesta.ru//spb/events/vystavka-nepodvizhnost-russkaya-klassicheskaya-skulptura-ot-f-i-shubina-do-a-t-matveeva/ https://www.fiesta.ru//uploads/slider_image/image/180114/slider_carousel_thumb_A_M_Opekushin_Model_pamyatnika_A_S_Pushkinu_v_Moskve_1875_Bronza_100_kh_37_kh_30_sm__Institut_russkoy_literatury_Pushkins.jpg 24 марта 16 мая \n",
      " м. Адмиралтейская Исаакиевская пл., 1, центральный выставочный зал «Манеж»\n",
      "\n",
      "\n",
      "20147 Мультимедийные проекты «Айвазовский. Кандинский. Бэнкси. Дали. Ожившие полотна»  https://www.fiesta.ru//spb/events/vystavki-ayvazovskiy-zhivye-polotna-i-rerih-zhivye-polotna/ https://www.fiesta.ru//uploads/slider_image/image/178075/slider_carousel_thumb_%D0%BB%D1%8E%D0%BC1.jpg 6 июля 30 мая \n",
      " м. Фрунзенская наб. Обводного канала, 74Д, креативное пространство «Люмьер-холл»\n",
      "\n",
      "\n",
      "35594 Выставка «Сад сновидений 2.0. Мистические миры» https://www.fiesta.ru//spb/events/vystavka-sad-snovideniy/ https://www.fiesta.ru//uploads/slider_image/image/165460/slider_carousel_thumb_yaMfnlxsZtY.jpg 6 июля 30 мая \n",
      " м. Обводный канал наб. Обводного канала, 74Д, креативное пространство «Люмьер-холл»\n",
      "\n",
      "\n",
      "46656 Мультимедийная выставка Universum https://www.fiesta.ru//spb/events/multimediynaya-vystavka-universum/ https://www.fiesta.ru//uploads/slider_image/image/181462/slider_carousel_thumb_DSC_1854.jpg 19 марта 18 апреля \n",
      " м. Приморская Кожевенная линия, 40Д, пространство «Севкабель Порт»\n",
      "\n",
      "\n",
      "46631 Выставка «Освобождённая Европа» https://www.fiesta.ru//spb/events/vystavka-osvobozhdennaya-evropa/ https://www.fiesta.ru//uploads/slider_image/image/181377/slider_carousel_thumb_file%20_7_.jpeg 2 апреля 30 мая \n",
      " м. Адмиралтейская Большая Морская ул., 35, «Росфото»\n",
      "\n",
      "\n",
      "46577 Выставка «Искусство созерцания» https://www.fiesta.ru//spb/events/vystavka-iskusstvo-sozertsaniya-1616170152/ https://www.fiesta.ru//uploads/slider_image/image/181149/slider_carousel_thumb_XbgyLt03T1Y.jpg 3 апреля 18 апреля \n",
      " м. Петроградская ул. Профессора Попова, 2, Ботанический сад\n",
      "\n",
      "\n",
      "46570 Выставка «2017. Pirelli Calendar by Peter Lindbergh and More…» https://www.fiesta.ru//spb/events/vystavka-2017-pirelli-calendar-by-peter-lindbergh-and-more/ https://www.fiesta.ru//uploads/slider_image/image/181120/slider_carousel_thumb_%D0%BF%D0%B8%D1%821.jpg 5 марта 6 июня \n",
      " м. Василеостровская 29-я линия В. О., 2, Музей современного искусства Эрарта\n",
      "\n",
      "\n",
      "46540 Шоу «Семь. Хроника любовных происшествий» https://www.fiesta.ru//spb/events/shou-sem-hronika-lyubovnyh-proisshestviy/ https://www.fiesta.ru//uploads/slider_image/image/181040/slider_carousel_thumb_%D0%9A%D0%BE%D0%BF%D0%B8%D1%8F%20LC1.jpg 1 апреля 17 апреля \n",
      " м. Чернышевская Потёмкинская ул., 4, «Ленинград Центр»\n",
      "\n",
      "\n",
      "46538 13 самых ожидаемых концертов 2021-го в Петербурге https://www.fiesta.ru//spb/events/14-samyh-ozhidaemyh-kontsertov-2021-go-v-peterburge/ https://www.fiesta.ru//uploads/slider_image/image/181032/slider_carousel_thumb_%D0%BA%D0%BE%D0%BD%D1%86.jpg 3 апреля 11 ноября \n",
      " None None\n",
      "\n",
      "\n"
     ]
    }
   ],
   "source": [
    "html = bs(r.text, 'html.parser')\n",
    "event = []\n",
    "soup = html.find_all('div', class_=\"grid_i grid_i__desktop-grid-1-3 grid_i__tablet-grid-1-2 grid_i__phone-grid-1-1\")\n",
    "#s = soup[2]\n",
    "for s in soup:\n",
    "    discounted = 0\n",
    "    id_parse = s.find('footer', class_='unit_f visible-desktop').attrs['data-calendar-item']\n",
    "    title = s.find('a', class_='unit_t_a double-hover').get_text()\n",
    "    link = 'https://www.fiesta.ru/' + s.find('a', class_='unit_t_a double-hover').get('href')\n",
    "    img = 'https://www.fiesta.ru/' + s.find('img').get('src')\n",
    "    # получаем дату события\n",
    "    date = s.find('p', class_='unit_date').get_text()\n",
    "    if date.find('–') > 0:\n",
    "        try:\n",
    "            date_array = date.split('–')\n",
    "            date_start = date_array[0].strip()\n",
    "            date_stop = date_array[1].strip()\n",
    "        except:\n",
    "            date_start = None\n",
    "            date_stop = None\n",
    "    elif date.find(','):\n",
    "        try:\n",
    "            date_array = date.split(',')\n",
    "            date_start = date_array[0].strip()\n",
    "            date_stop = date_array[-1].strip()\n",
    "        except:\n",
    "            date_start = None\n",
    "            date_stop = None\n",
    "    if date_start == date_stop:\n",
    "        date_stop = None\n",
    "    try:\n",
    "        place = s.find('p', class_='unit_place').get_text()\n",
    "        if place.startswith('м.'):\n",
    "            place_array = place.split(',')\n",
    "            metro = place_array[0].strip()\n",
    "            address = ','.join(place_array[1:]).strip()\n",
    "        else:\n",
    "            metro = None\n",
    "            address = None\n",
    "    except:\n",
    "        metro = None\n",
    "        address = None\n",
    "    link_cost = get_html(link)\n",
    "    html_event = bs(r.text, 'html.parser')\n",
    "    #cost = html_event.find('dd', class_='grid_i grid_i__desktop-grid-5-6 grid_i__tablet-grid-5-6 grid_i__phone-grid-1-1').get_text()\n",
    "\n",
    "    print(id_parse, title, link, img, date_start, date_stop, '\\n', metro, address, sep=' ')\n",
    "    print('\\n')\n",
    "    "
   ]
  },
  {
   "cell_type": "code",
   "execution_count": 46,
   "metadata": {},
   "outputs": [
    {
     "output_type": "stream",
     "name": "stdout",
     "text": [
      "None\n"
     ]
    }
   ],
   "source": [
    "link_cost = get_html('https://www.fiesta.ru//spb/events/shou-sem-hronika-lyubovnyh-proisshestviy/')\n",
    "html_event = bs(r.text, 'html.parser')\n",
    "cost = html_event.find('dd', class_='grid_i grid_i__desktop-grid-5-6 grid_i__tablet-grid-5-6 grid_i__phone-grid-1-1')\n",
    "print(cost)"
   ]
  },
  {
   "cell_type": "code",
   "execution_count": 171,
   "metadata": {},
   "outputs": [
    {
     "output_type": "stream",
     "name": "stdout",
     "text": [
      "[(12257, 'Концерт', 'https://cdn.kassir.ru/kassir.ru/poster/7f/7f8e0525bf368e6f0bd8b1073be7ca4e.jpg', 'Кентервильское привидение', '28 марта 2021', '25 апреля 2021', 'от 600 до 800 рублей', 0, 'Театр Мастерская, ул. Народная, дом 1', None, 'https://spb.kassir.ru/koncert/teatr-masterskaya/kentervilskoe-prividenie_2021-03-28')]\n"
     ]
    }
   ],
   "source": [
    "event = []\n",
    "id_parse = html_event['id']\n",
    "# получем минимальную и максимальную стоимость события\n",
    "min_cost = html_event['minPrice']\n",
    "max_cost = html_event['maxPrice']\n",
    "# формируем стоимость\n",
    "if min_cost == max_cost:\n",
    "    cost = str(max_cost) + ' рублей'\n",
    "else:\n",
    "    cost = 'от ' + str(min_cost) + ' до ' + str(max_cost) + ' рублей'\n",
    "# получаем дату события\n",
    "date = html_event['date']\n",
    "# если событие не один день\n",
    "if type(date) == dict:\n",
    "    date_start = re_format_kudago(html_event['date']['start_min'])\n",
    "    date_stop = re_format_kudago(html_event['date']['start_max'])\n",
    "else:\n",
    "    date_start = re_format_kudago(date)\n",
    "    date_stop = None\n",
    "type_event = \"Концерт\"\n",
    "# вшитый в страницу сктипт с параметрами события\n",
    "dictonary_event = json.loads(str(s.find('script', type=\"application/ld+json\").string))\n",
    "img = dictonary_event['image']\n",
    "title = dictonary_event['name']\n",
    "discounted = 0\n",
    "address_place = dictonary_event['location']['address']\n",
    "# убираем Санк-Петербург из адреса\n",
    "if address_place.startswith('Санкт'):\n",
    "    address_spb = address_place.split(', ')\n",
    "    address_place = ', '.join(address_spb[1:])\n",
    "address = dictonary_event['location']['name'] + \", \" + address_place\n",
    "metro = None\n",
    "link = dictonary_event['url']\n",
    "event.insert(0, (id_parse,type_event, img, title, date_start, date_stop, cost, discounted, address, metro, link))\n",
    "print(event)"
   ]
  },
  {
   "cell_type": "code",
   "execution_count": 155,
   "metadata": {},
   "outputs": [],
   "source": [
    "def re_format_kudago(date):\n",
    "    if len(date) > 10:\n",
    "        # '2021-04-28 20:00:00'\n",
    "        date =  date[0:10]\n",
    "    list_date = date.split('-')\n",
    "# удаление нуля в числе \n",
    "    number = int(list_date[2])\n",
    "    re_format_date = str(number) + \" \" + constant.date_format_kudago[int(list_date[1])-1] + \" \" + list_date[0]\n",
    "    return re_format_date"
   ]
  },
  {
   "cell_type": "code",
   "execution_count": 150,
   "metadata": {},
   "outputs": [
    {
     "output_type": "stream",
     "name": "stdout",
     "text": [
      "2021-04-28\n"
     ]
    }
   ],
   "source": [
    "x = '2021-04-28 20:00:00'\n",
    "y =  x[0:10]\n",
    "print(y)"
   ]
  },
  {
   "cell_type": "code",
   "execution_count": 127,
   "metadata": {},
   "outputs": [
    {
     "output_type": "stream",
     "name": "stdout",
     "text": [
      "{\"name\":\"Гречанинов. Демественная литургия\",\"id\":778220,\"price\":300,\"category\":\"Театр\",\"category_id\":3009,\"image\":\"https://cdn.kassir.ru/spb/poster/97/97ae0a5b8b109a05ac1ce8fae69f4058.jpg\",\"venueName\":\"Государственная академическая Капелла\",\"position\":1,\"cat1\":\"Театр\",\"cat2\":\"\",\"eventId\":778220,\"eventName\":\"Гречанинов. Демественная литургия\",\"minPrice\":300,\"maxPrice\":450,\"date\":\"2021-03-31 19:00:00\",\"avail\":390,\"placementId\":107}\n"
     ]
    }
   ],
   "source": [
    "x = '{\"name\":\"Гречанинов. Демественная литургия\",\"id\":778220,\"price\":300,\"category\":\"Театр\",\"category_id\":3009,\"image\":\"https://cdn.kassir.ru/spb/poster/97/97ae0a5b8b109a05ac1ce8fae69f4058.jpg\",\"venueName\":\"Государственная академическая Капелла\",\"position\":1,\"cat1\":\"Театр\",\"cat2\":\"\",\"eventId\":778220,\"eventName\":\"Гречанинов. Демественная литургия\",\"minPrice\":300,\"maxPrice\":450,\"date\":\"2021-03-31 19:00:00\",\"avail\":390,\"placementId\":107}'\n",
    "\n",
    "\n",
    "print(x)"
   ]
  },
  {
   "cell_type": "code",
   "execution_count": 128,
   "metadata": {},
   "outputs": [
    {
     "output_type": "stream",
     "name": "stdout",
     "text": [
      "{\"name\":\"Гречанинов. Демественная литургия\",\"id\":778220,\"price\":300,\"category\":\"Театр\",\"category_id\":3009,\"image\":\"https://cdn.kassir.ru/spb/poster/97/97ae0a5b8b109a05ac1ce8fae69f4058.jpg\",\"venueName\":\"Государственная академическая Капелла\",\"position\":1,\"cat1\":\"Театр\",\"cat2\":\"\",\"eventId\":778220,\"eventName\":\"Гречанинов. Демественная литургия\",\"minPrice\":300,\"maxPrice\":450,\"date\":\"2021-03-31 19:00:00\",\"avail\":390,\"placementId\":107}\n"
     ]
    }
   ],
   "source": [
    "w = re.sub(r'[^:]\"\"',' ', x).replace(' \"', ' ').replace('\" ', ' ')\n",
    "print(w)\n",
    "y = x.replace('\"\"', '\"').replace(' \"', ' ').replace('\" ', ' ')\n"
   ]
  },
  {
   "cell_type": "code",
   "execution_count": 129,
   "metadata": {},
   "outputs": [
    {
     "output_type": "execute_result",
     "data": {
      "text/plain": [
       "{'name': 'Гречанинов. Демественная литургия',\n",
       " 'id': 778220,\n",
       " 'price': 300,\n",
       " 'category': 'Театр',\n",
       " 'category_id': 3009,\n",
       " 'image': 'https://cdn.kassir.ru/spb/poster/97/97ae0a5b8b109a05ac1ce8fae69f4058.jpg',\n",
       " 'venueName': 'Государственная академическая Капелла',\n",
       " 'position': 1,\n",
       " 'cat1': 'Театр',\n",
       " 'cat2': '',\n",
       " 'eventId': 778220,\n",
       " 'eventName': 'Гречанинов. Демественная литургия',\n",
       " 'minPrice': 300,\n",
       " 'maxPrice': 450,\n",
       " 'date': '2021-03-31 19:00:00',\n",
       " 'avail': 390,\n",
       " 'placementId': 107}"
      ]
     },
     "metadata": {},
     "execution_count": 129
    }
   ],
   "source": [
    "json.loads(w)"
   ]
  },
  {
   "cell_type": "code",
   "execution_count": null,
   "metadata": {},
   "outputs": [],
   "source": []
  }
 ]
}