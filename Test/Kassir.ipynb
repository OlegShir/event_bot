{
 "metadata": {
  "language_info": {
   "codemirror_mode": {
    "name": "ipython",
    "version": 3
   },
   "file_extension": ".py",
   "mimetype": "text/x-python",
   "name": "python",
   "nbconvert_exporter": "python",
   "pygments_lexer": "ipython3",
   "version": "3.9.1"
  },
  "orig_nbformat": 2,
  "kernelspec": {
   "name": "python391jvsc74a57bd00d812c395b11b1c200509ac6c0bb3b674e303b6818cd492792c96e4ded76371e",
   "display_name": "Python 3.9.1 64-bit"
  },
  "metadata": {
   "interpreter": {
    "hash": "0d812c395b11b1c200509ac6c0bb3b674e303b6818cd492792c96e4ded76371e"
   }
  }
 },
 "nbformat": 4,
 "nbformat_minor": 2,
 "cells": [
  {
   "cell_type": "code",
   "execution_count": 1,
   "metadata": {},
   "outputs": [],
   "source": [
    "import requests\n",
    "from bs4 import BeautifulSoup as bs\n",
    "import lxml\n",
    "import json\n",
    "import constant\n",
    "import ast\n",
    "import re"
   ]
  },
  {
   "cell_type": "code",
   "execution_count": 2,
   "metadata": {},
   "outputs": [],
   "source": [
    "def get_html(url):\n",
    "    headers = {'User-Agent': 'Mozilla/5.0 (Windows NT 10.0; Win64; x64) AppleWebKit/537.36 (KHTML, like Gecko) Chrome/89.0.4389.90 Safari/537.36'}\n",
    "    r = requests.get(url, headers = headers)\n",
    "    return r"
   ]
  },
  {
   "cell_type": "code",
   "execution_count": 3,
   "metadata": {},
   "outputs": [],
   "source": [
    " #r = get_html('https://spb.kassir.ru/bilety-na-koncert?sort=1')\n",
    " r = get_html('https://spb.kassir.ru/bilety-v-teatr?sort=1')"
   ]
  },
  {
   "cell_type": "code",
   "execution_count": 4,
   "metadata": {},
   "outputs": [
    {
     "output_type": "stream",
     "name": "stdout",
     "text": [
      "<Response [200]>\n"
     ]
    }
   ],
   "source": [
    "print(r)"
   ]
  },
  {
   "cell_type": "code",
   "execution_count": 4,
   "metadata": {
    "tags": []
   },
   "outputs": [],
   "source": [
    "def re_format_kudago_and_kassir(date):\n",
    "    # обрезаем длинный формат даты события (кассир)\n",
    "    if len(date) > 10:\n",
    "        # '2021-04-28 20:00:00' -> '2021-04-28'\n",
    "        date =  date[0:10]\n",
    "    list_date = date.split('-')\n",
    "    # удаление нуля в числе \n",
    "    number = int(list_date[2])\n",
    "    re_format_date = str(number) + \" \" + constant.date_format_kudago[int(list_date[1])-1] + \" \" + list_date[0]\n",
    "    return re_format_date"
   ]
  },
  {
   "cell_type": "code",
   "execution_count": null,
   "metadata": {},
   "outputs": [],
   "source": []
  },
  {
   "cell_type": "code",
   "execution_count": 6,
   "metadata": {},
   "outputs": [
    {
     "output_type": "stream",
     "name": "stdout",
     "text": [
      "[(1359, 'Театр', 'https://cdn.kassir.ru/spb/poster/7c/7c44a6a250058805826112d2778619cf.jpg', 'Топ нон-стоп', '2021-05-01 19:00:00', '2021-05-20 19:00:00', 'от 1200 до 2500 рублей', 0, 'Театр БУФФ, Заневский пр., д.26, к.3', None, 'https://spb.kassir.ru/teatr/premera-top-non-stop'), (8656, 'Театр', 'https://cdn.kassir.ru/spb/poster/2c/2cb9f8e1db97fad0c72af823f459e79d.png', 'Камень', '2021-05-01 19:00:00', '2021-06-02 19:00:00', 'от 350 до 800 рублей', 0, 'Театр на Васильевском (Камерная сцена), В.О. Малый пр-т., д.49', None, 'https://spb.kassir.ru/teatr/kamen-premera'), (797600, 'Театр', 'https://cdn.kassir.ru/spb/poster/75/7554db67bac5530873f84865c355e571.png', 'Бесприданница', '2021-05-01 19:00:00', None, 'от 400 до 1200 рублей', 0, 'Театр на Васильевском, г. Санкт-Петербург, В.О. Средний пр., 48', None, 'https://spb.kassir.ru/teatr/teatr-na-vasilevskom/bespridannitsa_2021-05-01'), (18981, 'Театр', 'https://cdn.kassir.ru/spb/poster/7d/7dd6955db82e6e417e25e85ff4a7b149.jpg', '(Не)принятый вызов', '2021-05-01 19:00:00', '2021-06-11 19:00:00', 'от 600 до 2000 рублей', 0, 'Драматический театр на Литейном, Литейный пр. д. 51, м.&quot;Владимирская&quot;', None, 'https://spb.kassir.ru/teatr/neprinyatyiy-vyizov'), (84147, 'Театр', 'https://cdn.kassir.ru/kassir.ru/poster/6a/6aa28ea6ad50549e7ac36c46283d8a21.jpg', 'ПРЕМЬЕРА! Neoполитанцы', '2021-05-01 19:00:00', '2021-05-19 19:00:00', 'от 1000 до 3000 рублей', 0, 'Театр БУФФ, Заневский пр., д.26, к.3', None, 'https://spb.kassir.ru/teatr/neopolitantsyi'), (411, 'Театр', 'https://cdn.kassir.ru/spb/poster/1c/1cea533f6b3cfc125890cc7be770c00e.jpg', '«Утоли моя печали…»', '2021-05-01 19:00:00', '2021-06-11 19:00:00', 'от 300 до 2000 рублей', 0, 'Театр им. В.Ф. Комиссаржевской, г.Санкт-Петербург, Итальянская ул., д.19', None, 'https://spb.kassir.ru/teatr/utoli-moya-pechali'), (798192, 'Театр', 'https://cdn.kassir.ru/spb/poster/64/64049fd0f1b4f62d1a43b2b5b4e0e9c1.jpg', 'Гала-концерт &quot;VIVA ШТРАУС&quot;', '2021-05-01 19:00:00', None, 'от 1500 до 1700 рублей', 0, 'Санктъ-Петербургъ Опера, ул. Галерная, д.33', None, 'https://spb.kassir.ru/teatr/gala-kontsert-viva-shtraus#798192'), (6661, 'Театр', 'https://cdn.kassir.ru/spb/poster/41/41534692b397647a812dc0388b68bfa0.jpg', 'Игроки', '2021-05-01 19:00:00', '2021-07-18 19:00:00', 'от 700 до 2500 рублей', 0, 'Театр Комедии им. Н.П. Акимова, г.Санкт-Петербург, Невский пр., д.56', None, 'https://spb.kassir.ru/teatr/igroki'), (22751, 'Театр', 'https://cdn.kassir.ru/spb/poster/7e/7ea57960ef363161fbef1921afd3e315.jpg', 'Где нет зимы', '2021-05-01 19:00:00', '2021-06-19 18:00:00', 'от 500 до 2500 рублей', 0, 'МДТ - театр Европы, д.18, Ст.м. &quot;Владимирская&quot; и &quot;Достоевская&quot;', None, 'https://spb.kassir.ru/teatr/gde-net-zimyi'), (805225, 'Театр', 'https://cdn.kassir.ru/kassir.ru/poster/6e/6efdc692f2df7dcad1ba9193df6f73d1.jpg', 'Легко на сердце от песни веселой', '2021-05-01 19:00:00', None, 'от 400 до 1400 рублей', 0, 'Мариинский театр, Театральная площадь, д.1', None, 'https://spb.kassir.ru/teatr/mariinskiy-teatr-staryiy/legko-na-serdtse-ot-pesni-veseloy_2021-05-01'), (111915, 'Театр', 'https://cdn.kassir.ru/kassir.ru/poster/4c/4cbbae3f0001583e8e9b8415cface57d.jpg', 'Главный элемент', '2021-05-01 19:00:00', '2021-06-01 19:00:00', 'от 600 до 2000 рублей', 0, 'Театр Эстрады им. А. Райкина, г.Санкт-Петербург,ул. Б.Конюшенная, д.27, ст. м.&quot;Невский проспект&quot;', None, 'https://spb.kassir.ru/teatr/glavnyiy-element'), (60490, 'Театр', 'https://cdn.kassir.ru/spb/poster/0d/0de686708cc6ce7d65dd6985d720b243.gif', 'Несолнечный город', '2021-05-01 19:00:00', '2021-06-30 19:00:00', '500 рублей', 0, 'Театр Юных Зрителей, Пионерская пл., д.1, ст.м. &quot;Пушкинская&quot;', None, 'https://spb.kassir.ru/teatr/nesolnechnyiy-gorod'), (5091, 'Театр', 'https://cdn.kassir.ru/spb/poster/d1/d1163130caed00dad0b1743daea60215.jpg', 'Лебединое озеро &quot;СПб Театр балета им. П.И. Чайковского&quot;', '2021-05-01 19:00:00', '2021-07-29 19:00:00', 'от 600 до 8000 рублей', 0, 'Александринский театр, г. Санкт-Петербург, пл. Островского, д. 6', None, 'https://spb.kassir.ru/teatr/lebedinoe-ozero-5091'), (10224, 'Театр', 'https://cdn.kassir.ru/spb/poster/3c/3ca15e7e014a8345abde49797e61b9d8.jpg', 'Записки юного врача', '2021-05-01 19:00:00', '2021-05-15 19:00:00', 'от 1600 до 3500 рублей', 0, 'Театр Мастерская, ул. Народная, дом 1', None, 'https://spb.kassir.ru/teatr/zapiski-yunogo-vracha-teatr-masterskaya'), (21349, 'Театр', 'https://cdn.kassir.ru/spb/poster/2a/2ac7a92abf7418dcd4da34c652389538.jpg', 'Иммерсивное шоу &quot;Вернувшиеся&quot;', '2021-05-01 19:00:00', '2021-06-27 19:00:00', 'от 3500 до 15000 рублей', 0, 'Особняк Дворцовая наб.  20, Дворцовая набережная, 20', None, 'https://spb.kassir.ru/teatr/immersivnoe-shou-vernuvshiesya'), (793233, 'Театр', 'https://cdn.kassir.ru/spb/poster/f9/f92a0e08e4b80f4ead9b845a63e99bed.png', 'Кыся', '2021-05-01 19:00:00', None, '1200 рублей', 0, 'ДК им.  Ленсовета, Каменноостровский пр., д.42. Ст.м. &quot;Петроградская&quot;', None, 'https://spb.kassir.ru/teatr/kyisya-na-bis#793233'), (811330, 'Театр', 'https://cdn.kassir.ru/spb/poster/4b/4bcb5280db5663bb4a39307faeb57603.jpg', 'ЛЮБКА', '2021-05-01 19:00:00', None, '1200 рублей', 0, 'Театр За Чёрной речкой, Г. Санкт-Петербург, Богатырский проспект, д. 4', None, 'https://spb.kassir.ru/teatr/spektakl-lyubka-tk-otkryitoe-prostranstvo#811330'), (786362, 'Театр', 'https://cdn.kassir.ru/kassir.ru/poster/f3/f3fa52b91f36074f178a57e46cad82a6.jpg', 'БАЛ ВОРОВ', '2021-05-01 19:00:00', None, 'от 850 до 2250 рублей', 0, 'Театр Музыкальной комедии, ул.Итальянская, д.13', None, 'https://spb.kassir.ru/teatr/bal-vorov#786362'), (794, 'Театр', 'https://cdn.kassir.ru/spb/poster/49/49f87dda6bd198ff93f3d5a79d2f8f6c.jpg', 'Вишнёвый сад', '2021-05-01 19:00:00', '2021-06-24 19:00:00', 'от 500 до 5000 рублей', 0, 'Театр Русская антреприза им. Андрея  Миронова, Большой пр. Петроградской стороны, 75/35', None, 'https://spb.kassir.ru/teatr/gupshka')]\n"
     ]
    }
   ],
   "source": [
    "html = bs(r.text, 'html.parser')\n",
    "event = []\n",
    "soup = html.find_all('div', class_=\"col-xs-2\")\n",
    "event = []\n",
    "for soup_event in soup[2:22]:\n",
    "    json_string = soup_event.find('div', class_='event').attrs['data-ec-item']\n",
    "    # пробуем получить словарь из json_string\n",
    "    try: \n",
    "        first_part_event = json.loads(json_string)\n",
    "    # в json_string возможно будут исключения типа \"\" -> удаляем их\n",
    "    except:\n",
    "        try:\n",
    "            new_json_string = re.sub(r'[^:]\"\"',' ', json_string).replace(' \"', ' ').replace('\" ', ' ')\n",
    "            first_part_event = json.loads(new_json_string)\n",
    "        except:\n",
    "            continue\n",
    "    # id события\n",
    "    id_parse = first_part_event['id']\n",
    "    # производим сравнение id каждого мероприятия с последним обработанным (записанным)\n",
    "    # минимальная и максимальная стоимость события\n",
    "    min_cost = first_part_event['minPrice']\n",
    "    max_cost = first_part_event['maxPrice']\n",
    "    # формируем строку стоимости\n",
    "    if min_cost == max_cost:\n",
    "        cost = str(max_cost) + ' рублей'\n",
    "    else:\n",
    "        cost = 'от ' + str(min_cost) + ' до ' + str(max_cost) + ' рублей'\n",
    "    # дата события\n",
    "    date = first_part_event['date']\n",
    "    # если дата события не один день, то она хранится в виде словаря\n",
    "    if type(date) == dict:\n",
    "        date_start = (first_part_event['date']['start_min'])\n",
    "        date_stop = (first_part_event['date']['start_max'])\n",
    "        # если один день\n",
    "    else:\n",
    "        date_start = (date)\n",
    "        date_stop = None\n",
    "        # категория\n",
    "    type_event = first_part_event['category']\n",
    "\n",
    "        # получаем вторую часть информации о событии в script: image, title, address, link \n",
    "    try:\n",
    "        second_part_event = json.loads(str(soup_event.find('script', type=\"application/ld+json\").string))\n",
    "    except:\n",
    "        continue\n",
    "        # ссылка на изображения события\n",
    "    img = second_part_event['image']\n",
    "        # название события\n",
    "    title = second_part_event['name']\n",
    "    discounted = 0\n",
    "        # адрес проведения события\n",
    "    address_place = second_part_event['location']['address']\n",
    "        # проверяем наличие годода Санк-Петербург в адресе\n",
    "    if address_place.startswith('Санкт'):\n",
    "            # если есть убираем\n",
    "        address_spb = address_place.split(', ')\n",
    "        address_place = ', '.join(address_spb[1:])\n",
    "        # добавляем перед адресом название места проведения события\n",
    "    address = second_part_event['location']['name'] + \", \" + address_place\n",
    "        # МЕТРО В РАЗРАБОТКЕ\n",
    "    metro = None\n",
    "        # ссылка на событие\n",
    "    full_link = second_part_event['url']    \n",
    "\n",
    "    event.append((id_parse, type_event, img, title, date_start, date_stop, cost, discounted, address, metro, full_link))\n",
    "print(event)"
   ]
  },
  {
   "cell_type": "code",
   "execution_count": 155,
   "metadata": {},
   "outputs": [],
   "source": [
    "def re_format_kudago(date):\n",
    "    if len(date) > 10:\n",
    "        # '2021-04-28 20:00:00'\n",
    "        date =  date[0:10]\n",
    "    list_date = date.split('-')\n",
    "# удаление нуля в числе \n",
    "    number = int(list_date[2])\n",
    "    re_format_date = str(number) + \" \" + constant.date_format_kudago[int(list_date[1])-1] + \" \" + list_date[0]\n",
    "    return re_format_date"
   ]
  },
  {
   "cell_type": "code",
   "execution_count": 150,
   "metadata": {},
   "outputs": [
    {
     "output_type": "stream",
     "name": "stdout",
     "text": [
      "2021-04-28\n"
     ]
    }
   ],
   "source": [
    "x = '2021-04-28 20:00:00'\n",
    "y =  x[0:10]\n",
    "print(y)"
   ]
  },
  {
   "cell_type": "code",
   "execution_count": 127,
   "metadata": {},
   "outputs": [
    {
     "output_type": "stream",
     "name": "stdout",
     "text": [
      "{\"name\":\"Гречанинов. Демественная литургия\",\"id\":778220,\"price\":300,\"category\":\"Театр\",\"category_id\":3009,\"image\":\"https://cdn.kassir.ru/spb/poster/97/97ae0a5b8b109a05ac1ce8fae69f4058.jpg\",\"venueName\":\"Государственная академическая Капелла\",\"position\":1,\"cat1\":\"Театр\",\"cat2\":\"\",\"eventId\":778220,\"eventName\":\"Гречанинов. Демественная литургия\",\"minPrice\":300,\"maxPrice\":450,\"date\":\"2021-03-31 19:00:00\",\"avail\":390,\"placementId\":107}\n"
     ]
    }
   ],
   "source": [
    "x = '{\"name\":\"Гречанинов. Демественная литургия\",\"id\":778220,\"price\":300,\"category\":\"Театр\",\"category_id\":3009,\"image\":\"https://cdn.kassir.ru/spb/poster/97/97ae0a5b8b109a05ac1ce8fae69f4058.jpg\",\"venueName\":\"Государственная академическая Капелла\",\"position\":1,\"cat1\":\"Театр\",\"cat2\":\"\",\"eventId\":778220,\"eventName\":\"Гречанинов. Демественная литургия\",\"minPrice\":300,\"maxPrice\":450,\"date\":\"2021-03-31 19:00:00\",\"avail\":390,\"placementId\":107}'\n",
    "\n",
    "\n",
    "print(x)"
   ]
  },
  {
   "cell_type": "code",
   "execution_count": 128,
   "metadata": {},
   "outputs": [
    {
     "output_type": "stream",
     "name": "stdout",
     "text": [
      "{\"name\":\"Гречанинов. Демественная литургия\",\"id\":778220,\"price\":300,\"category\":\"Театр\",\"category_id\":3009,\"image\":\"https://cdn.kassir.ru/spb/poster/97/97ae0a5b8b109a05ac1ce8fae69f4058.jpg\",\"venueName\":\"Государственная академическая Капелла\",\"position\":1,\"cat1\":\"Театр\",\"cat2\":\"\",\"eventId\":778220,\"eventName\":\"Гречанинов. Демественная литургия\",\"minPrice\":300,\"maxPrice\":450,\"date\":\"2021-03-31 19:00:00\",\"avail\":390,\"placementId\":107}\n"
     ]
    }
   ],
   "source": [
    "w = re.sub(r'[^:]\"\"',' ', x).replace(' \"', ' ').replace('\" ', ' ')\n",
    "print(w)\n",
    "y = x.replace('\"\"', '\"').replace(' \"', ' ').replace('\" ', ' ')\n"
   ]
  },
  {
   "cell_type": "code",
   "execution_count": 129,
   "metadata": {},
   "outputs": [
    {
     "output_type": "execute_result",
     "data": {
      "text/plain": [
       "{'name': 'Гречанинов. Демественная литургия',\n",
       " 'id': 778220,\n",
       " 'price': 300,\n",
       " 'category': 'Театр',\n",
       " 'category_id': 3009,\n",
       " 'image': 'https://cdn.kassir.ru/spb/poster/97/97ae0a5b8b109a05ac1ce8fae69f4058.jpg',\n",
       " 'venueName': 'Государственная академическая Капелла',\n",
       " 'position': 1,\n",
       " 'cat1': 'Театр',\n",
       " 'cat2': '',\n",
       " 'eventId': 778220,\n",
       " 'eventName': 'Гречанинов. Демественная литургия',\n",
       " 'minPrice': 300,\n",
       " 'maxPrice': 450,\n",
       " 'date': '2021-03-31 19:00:00',\n",
       " 'avail': 390,\n",
       " 'placementId': 107}"
      ]
     },
     "metadata": {},
     "execution_count": 129
    }
   ],
   "source": [
    "json.loads(w)"
   ]
  },
  {
   "cell_type": "code",
   "execution_count": null,
   "metadata": {},
   "outputs": [],
   "source": []
  }
 ]
}