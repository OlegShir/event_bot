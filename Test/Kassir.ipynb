{
 "metadata": {
  "language_info": {
   "codemirror_mode": {
    "name": "ipython",
    "version": 3
   },
   "file_extension": ".py",
   "mimetype": "text/x-python",
   "name": "python",
   "nbconvert_exporter": "python",
   "pygments_lexer": "ipython3",
   "version": "3.7.6"
  },
  "orig_nbformat": 2,
  "kernelspec": {
   "name": "python376jvsc74a57bd07f2fb41319d399c8c91a3eec84d3e6994a6b777073b543131b8d0dd527174eaa",
   "display_name": "Python 3.7.6 64-bit"
  },
  "metadata": {
   "interpreter": {
    "hash": "7f2fb41319d399c8c91a3eec84d3e6994a6b777073b543131b8d0dd527174eaa"
   }
  }
 },
 "nbformat": 4,
 "nbformat_minor": 2,
 "cells": [
  {
   "cell_type": "code",
   "execution_count": 1,
   "metadata": {},
   "outputs": [],
   "source": [
    "import requests\n",
    "from bs4 import BeautifulSoup as bs\n",
    "import lxml\n",
    "import json\n",
    "import constant\n",
    "import ast\n",
    "import re"
   ]
  },
  {
   "cell_type": "code",
   "execution_count": 2,
   "metadata": {},
   "outputs": [],
   "source": [
    "def get_html(url):\n",
    "    headers = {'User-Agent': 'Mozilla/5.0 (Windows NT 10.0; Win64; x64) AppleWebKit/537.36 (KHTML, like Gecko) Chrome/89.0.4389.90 Safari/537.36'}\n",
    "    r = requests.get(url, headers = headers)\n",
    "    return r"
   ]
  },
  {
   "cell_type": "code",
   "execution_count": 14,
   "metadata": {},
   "outputs": [],
   "source": [
    " #r = get_html('https://spb.kassir.ru/bilety-na-koncert?sort=1')\n",
    " r = get_html('https://spb.kassir.ru/bilety-v-teatr?sort=1')"
   ]
  },
  {
   "cell_type": "code",
   "execution_count": 4,
   "metadata": {},
   "outputs": [
    {
     "output_type": "stream",
     "name": "stdout",
     "text": [
      "<Response [200]>\n"
     ]
    }
   ],
   "source": [
    "print(r)"
   ]
  },
  {
   "cell_type": "code",
   "execution_count": 7,
   "metadata": {
    "tags": []
   },
   "outputs": [],
   "source": [
    "def re_format_kudago_and_kassir(date):\n",
    "    # обрезаем длинный формат даты события (кассир)\n",
    "    if len(date) > 10:\n",
    "        # '2021-04-28 20:00:00' -> '2021-04-28'\n",
    "        date =  date[0:10]\n",
    "    list_date = date.split('-')\n",
    "    # удаление нуля в числе \n",
    "    number = int(list_date[2])\n",
    "    re_format_date = str(number) + \" \" + constant.date_format_kudago[int(list_date[1])-1] + \" \" + list_date[0]\n",
    "    return re_format_date"
   ]
  },
  {
   "cell_type": "code",
   "execution_count": null,
   "metadata": {},
   "outputs": [],
   "source": []
  },
  {
   "cell_type": "code",
   "execution_count": 16,
   "metadata": {},
   "outputs": [
    {
     "output_type": "stream",
     "name": "stdout",
     "text": [
      "[(8629, 'Театр', 'https://cdn.kassir.ru/spb/poster/e3/e3162241c153c1c8c39939d0935ed4a8.jpg', 'Айболит (Кукольный театр сказки)', '9 апреля 2021', '2 мая 2021', 'от 300 до 800 рублей', 0, 'Кукольный театр сказки, Московский пр., д. 121', None, 'https://spb.kassir.ru/teatr/aybolit-8629'), (798654, 'Театр', 'https://cdn.kassir.ru/spb/poster/08/08a3457197dda7a3ce7126ed5e946923.jpg', 'Краденое солнце', '9 апреля 2021', None, '450 рублей', 0, 'Театр кукол «Бродячая собачка», пр.Стачек 59', None, 'https://spb.kassir.ru/teatr/kradenoe-solntse#798654'), (793103, 'Театр', 'https://cdn.kassir.ru/spb/poster/13/138ce41e3d7303541f1c2d8e479a9d19.jpg', 'Турандот', '9 апреля 2021', None, 'от 1100 до 3500 рублей', 0, 'Театр Мастерская, ул. Народная, дом 1', None, 'https://spb.kassir.ru/teatr/turandot-teatr-masterskaya#793103'), (23297, 'Театр', 'https://cdn.kassir.ru/spb/poster/92/92cdf54f2fc9528bf35cf28054b3f41e.jpg', 'Джульетта выжила', '9 апреля 2021', '23 мая 2021', 'от 550 до 1000 рублей', 0, 'Театр Комедианты, Лиговский пр., 44', None, 'https://spb.kassir.ru/teatr/djuletta-vyijila'), (21054, 'Театр', 'https://cdn.kassir.ru/spb/poster/00/00f469842534e5dc704b08413f05212b.jpg', 'Мюзикл &quot;Алмазная колесница&quot;', '9 апреля 2021', '13 июня 2021', 'от 2000 до 20000 рублей', 0, 'Театр ЛДМ. Новая сцена., Россия, Санкт-Петербург, ул.Профессора Попова, 47', None, 'https://spb.kassir.ru/teatr/myuzikl-almaznaya-kolesnitsa'), (15419, 'Театр', 'https://cdn.kassir.ru/spb/poster/79/79fabef6c082da2c3c957dfaef2e4fda.jpg', '«Доктор Живаго»', '9 апреля 2021', '30 мая 2021', 'от 300 до 2000 рублей', 0, 'Театр им. В.Ф. Комиссаржевской, г.Санкт-Петербург, Итальянская ул., д.19', None, 'https://spb.kassir.ru/teatr/doktor-jivago-5a46479783fe3'), (13134, 'Театр', 'https://cdn.kassir.ru/spb/poster/12/1231652ca56704c254948555ed682cfe.jpg', 'Хорошо.Очень!', '9 апреля 2021', '23 мая 2021', 'от 500 до 2000 рублей', 0, 'Театр Приют комедианта, ул. Садовая, д.27/9', None, 'https://spb.kassir.ru/teatr/horosho-ochen'), (18608, 'Театр', 'https://cdn.kassir.ru/spb/poster/b0/b044721d1e5934fe99d345f4bada6a77.JPG', 'Алые паруса', '9 апреля 2021', '22 мая 2021', 'от 500 до 850 рублей', 0, 'Театр Юных Зрителей, Пионерская пл., д.1, ст.м. &quot;Пушкинская&quot;', None, 'https://spb.kassir.ru/teatr/alyie-parusa-pemera'), (1292, 'Театр', 'https://cdn.kassir.ru/spb/poster/07/0768439dd34376c9a4f3a15f2eed608f.jpg', 'Тень', '9 апреля 2021', '8 мая 2021', 'от 500 до 2000 рублей', 0, 'Театр Комедии им. Н.П. Акимова, г.Санкт-Петербург, Невский пр., д.56', None, 'https://spb.kassir.ru/teatr/ten'), (793120, 'Театр', 'https://cdn.kassir.ru/spb/poster/cc/cc49a6128831b9909806cfb011417e17.jpg', 'Наш Авлабар', '9 апреля 2021', None, 'от 500 до 2300 рублей', 0, 'КДЦ Московский, г.Санкт-Петербург, Московский пр-т, д.152', None, 'https://spb.kassir.ru/teatr/kdts-moskovskiy/nash-avlabar_2021-04-09'), (20923, 'Театр', 'https://cdn.kassir.ru/spb/poster/55/55558aec998ece4986b9027f9e401013.jpg', 'Укрощение строптивой', '9 апреля 2021', '28 мая 2021', 'от 300 до 1800 рублей', 0, 'Театр Балтийский Дом, Александровский парк, 4, м. Горьковская', None, 'https://spb.kassir.ru/teatr/ukroschenie-stroptivoy-5d2c95261bfb9'), (18373, 'Театр', 'https://cdn.kassir.ru/spb/poster/bb/bb71fb0a3ba5af0d07bd46af5b06c038.jpg', 'Гамлет.eXistenZ', '9 апреля 2021', '21 мая 2021', 'от 1000 до 1200 рублей', 0, 'Театр В.Малыщицкого, ул. Восстания, д. 41', None, 'https://spb.kassir.ru/teatr/gamlet-existenz'), (797690, 'Театр', 'https://cdn.kassir.ru/spb/poster/1b/1b84fe43087cf0f1806bf0fd1946995b.jpg', 'Кроткая', '9 апреля 2021', None, 'от 800 до 1000 рублей', 0, 'Вторая сцена БДТ им Г.А.Товстоногова (Каменноостровский театр), наб. реки Крестовки, д.10', None, 'https://spb.kassir.ru/teatr/bdt-im-gatovstonogova-vtoraya-stsena-kamennoostrovskiy-teatr/krotkaya_2021-04-09'), (797727, 'Театр', 'https://cdn.kassir.ru/spb/poster/5b/5b6ddc7ac84c21d5ccda8f45cc9ca4c4.jpg', 'Шутники', '9 апреля 2021', None, 'от 1500 до 4000 рублей', 0, 'Театр Русская антреприза им. Андрея  Миронова, Большой пр. Петроградской стороны, 75/35', None, 'https://spb.kassir.ru/teatr/shutniki#797727'), (797114, 'Театр', 'https://cdn.kassir.ru/spb/poster/b0/b03d8291e37630ff05611a650b32773b.jpg', 'КОНЦЕРТ В БЕЛОМ ЗАЛЕ ПОЛИТЕХНИЧЕСКОГО УНИВЕРСИТЕТА  &quot;ПАРАД СОЛИСТОВ АНДРЕЕВСКОГО ОРКЕСТРА&quot;', '9 апреля 2021', None, 'от 350 до 450 рублей', 0, 'Политехнический университет, ул. Политехническая,29', None, 'https://spb.kassir.ru/teatr/belyiy-zal-politehnicheskogo-universiteta/kontsert-v-belom-zale-politehnicheskogo-universiteta_2021-04-09'), (83968, 'Театр', 'https://cdn.kassir.ru/spb/poster/3c/3c71cd965dcf91015ae266974ba06417.jpg', 'Мистический иммерсивный балет &quot;Превращение&quot;', '9 апреля 2021', '28 мая 2021', 'от 2500 до 12000 рублей', 0, 'Особняк Дворцовая наб.  20, Дворцовая набережная, 20', None, 'https://spb.kassir.ru/teatr/immersivnyiy-balet-prevraschenie'), (810992, 'Театр', 'https://cdn.kassir.ru/spb/poster/0e/0ef52c637e92edae7f674d958223587a.jpg', 'Джазовая классика 40х - 50х годов', '9 апреля 2021', None, 'от 1200 до 1400 рублей', 0, 'Филармония джазовой музыки, Загородный пр., д.27', None, 'https://spb.kassir.ru/teatr/filarmoniya-djazovoy-muzyiki/djazovaya-klassika-40h---50h-godov_2021-04-09'), (792838, 'Театр', 'https://cdn.kassir.ru/spb/poster/c6/c6a42d646452037cb366497cf76f6bb8.jpg', 'Суп из канарейки', '9 апреля 2021', None, 'от 500 до 6000 рублей', 0, 'ДК Выборгский, ул. Комиссара Смирнова, д.15, Ст.м. &quot;Площадь Ленина&quot;', None, 'https://spb.kassir.ru/teatr/sup-iz-kanareyki#792838'), (797712, 'Театр', 'https://cdn.kassir.ru/spb/poster/be/bef55be850a2bb84d2d7499e4e9c70eb.jpg', 'История одной ночи', '9 апреля 2021', None, '1200 рублей', 0, 'Театр За Чёрной речкой, Г. Санкт-Петербург, Богатырский проспект, д. 4', None, 'https://spb.kassir.ru/teatr/spektakl-istoriya-odnoy-nochi-9904#797712'), (18981, 'Театр', 'https://cdn.kassir.ru/spb/poster/7d/7dd6955db82e6e417e25e85ff4a7b149.jpg', '(Не)принятый вызов', '9 апреля 2021', '11 июня 2021', 'от 600 до 2000 рублей', 0, 'Драматический театр на Литейном, Литейный пр. д. 51, м.&quot;Владимирская&quot;', None, 'https://spb.kassir.ru/teatr/neprinyatyiy-vyizov')]\n"
     ]
    }
   ],
   "source": [
    "html = bs(r.text, 'html.parser')\n",
    "event = []\n",
    "soup = html.find_all('div', class_=\"col-xs-2\")\n",
    "event = []\n",
    "for soup_event in soup[2:22]:\n",
    "    json_string = soup_event.find('div', class_='event').attrs['data-ec-item']\n",
    "    # пробуем получить словарь из json_string\n",
    "    try: \n",
    "        first_part_event = json.loads(json_string)\n",
    "    # в json_string возможно будут исключения типа \"\" -> удаляем их\n",
    "    except:\n",
    "        try:\n",
    "            new_json_string = re.sub(r'[^:]\"\"',' ', json_string).replace(' \"', ' ').replace('\" ', ' ')\n",
    "            first_part_event = json.loads(new_json_string)\n",
    "        except:\n",
    "            continue\n",
    "    # id события\n",
    "    id_parse = first_part_event['id']\n",
    "    # производим сравнение id каждого мероприятия с последним обработанным (записанным)\n",
    "    # минимальная и максимальная стоимость события\n",
    "    min_cost = first_part_event['minPrice']\n",
    "    max_cost = first_part_event['maxPrice']\n",
    "    # формируем строку стоимости\n",
    "    if min_cost == max_cost:\n",
    "        cost = str(max_cost) + ' рублей'\n",
    "    else:\n",
    "        cost = 'от ' + str(min_cost) + ' до ' + str(max_cost) + ' рублей'\n",
    "    # дата события\n",
    "    date = first_part_event['date']\n",
    "    # если дата события не один день, то она хранится в виде словаря\n",
    "    if type(date) == dict:\n",
    "        date_start = re_format_kudago_and_kassir(first_part_event['date']['start_min'])\n",
    "        date_stop = re_format_kudago_and_kassir(first_part_event['date']['start_max'])\n",
    "        # если один день\n",
    "    else:\n",
    "        date_start = re_format_kudago_and_kassir(date)\n",
    "        date_stop = None\n",
    "        # категория\n",
    "    type_event = first_part_event['category']\n",
    "\n",
    "        # получаем вторую часть информации о событии в script: image, title, address, link \n",
    "    try:\n",
    "        second_part_event = json.loads(str(soup_event.find('script', type=\"application/ld+json\").string))\n",
    "    except:\n",
    "        continue\n",
    "        # ссылка на изображения события\n",
    "    img = second_part_event['image']\n",
    "        # название события\n",
    "    title = second_part_event['name']\n",
    "    discounted = 0\n",
    "        # адрес проведения события\n",
    "    address_place = second_part_event['location']['address']\n",
    "        # проверяем наличие годода Санк-Петербург в адресе\n",
    "    if address_place.startswith('Санкт'):\n",
    "            # если есть убираем\n",
    "        address_spb = address_place.split(', ')\n",
    "        address_place = ', '.join(address_spb[1:])\n",
    "        # добавляем перед адресом название места проведения события\n",
    "    address = second_part_event['location']['name'] + \", \" + address_place\n",
    "        # МЕТРО В РАЗРАБОТКЕ\n",
    "    metro = None\n",
    "        # ссылка на событие\n",
    "    full_link = second_part_event['url']    \n",
    "\n",
    "    event.append((id_parse, type_event, img, title, date_start, date_stop, cost, discounted, address, metro, full_link))\n",
    "print(event)"
   ]
  },
  {
   "cell_type": "code",
   "execution_count": 155,
   "metadata": {},
   "outputs": [],
   "source": [
    "def re_format_kudago(date):\n",
    "    if len(date) > 10:\n",
    "        # '2021-04-28 20:00:00'\n",
    "        date =  date[0:10]\n",
    "    list_date = date.split('-')\n",
    "# удаление нуля в числе \n",
    "    number = int(list_date[2])\n",
    "    re_format_date = str(number) + \" \" + constant.date_format_kudago[int(list_date[1])-1] + \" \" + list_date[0]\n",
    "    return re_format_date"
   ]
  },
  {
   "cell_type": "code",
   "execution_count": 150,
   "metadata": {},
   "outputs": [
    {
     "output_type": "stream",
     "name": "stdout",
     "text": [
      "2021-04-28\n"
     ]
    }
   ],
   "source": [
    "x = '2021-04-28 20:00:00'\n",
    "y =  x[0:10]\n",
    "print(y)"
   ]
  },
  {
   "cell_type": "code",
   "execution_count": 127,
   "metadata": {},
   "outputs": [
    {
     "output_type": "stream",
     "name": "stdout",
     "text": [
      "{\"name\":\"Гречанинов. Демественная литургия\",\"id\":778220,\"price\":300,\"category\":\"Театр\",\"category_id\":3009,\"image\":\"https://cdn.kassir.ru/spb/poster/97/97ae0a5b8b109a05ac1ce8fae69f4058.jpg\",\"venueName\":\"Государственная академическая Капелла\",\"position\":1,\"cat1\":\"Театр\",\"cat2\":\"\",\"eventId\":778220,\"eventName\":\"Гречанинов. Демественная литургия\",\"minPrice\":300,\"maxPrice\":450,\"date\":\"2021-03-31 19:00:00\",\"avail\":390,\"placementId\":107}\n"
     ]
    }
   ],
   "source": [
    "x = '{\"name\":\"Гречанинов. Демественная литургия\",\"id\":778220,\"price\":300,\"category\":\"Театр\",\"category_id\":3009,\"image\":\"https://cdn.kassir.ru/spb/poster/97/97ae0a5b8b109a05ac1ce8fae69f4058.jpg\",\"venueName\":\"Государственная академическая Капелла\",\"position\":1,\"cat1\":\"Театр\",\"cat2\":\"\",\"eventId\":778220,\"eventName\":\"Гречанинов. Демественная литургия\",\"minPrice\":300,\"maxPrice\":450,\"date\":\"2021-03-31 19:00:00\",\"avail\":390,\"placementId\":107}'\n",
    "\n",
    "\n",
    "print(x)"
   ]
  },
  {
   "cell_type": "code",
   "execution_count": 128,
   "metadata": {},
   "outputs": [
    {
     "output_type": "stream",
     "name": "stdout",
     "text": [
      "{\"name\":\"Гречанинов. Демественная литургия\",\"id\":778220,\"price\":300,\"category\":\"Театр\",\"category_id\":3009,\"image\":\"https://cdn.kassir.ru/spb/poster/97/97ae0a5b8b109a05ac1ce8fae69f4058.jpg\",\"venueName\":\"Государственная академическая Капелла\",\"position\":1,\"cat1\":\"Театр\",\"cat2\":\"\",\"eventId\":778220,\"eventName\":\"Гречанинов. Демественная литургия\",\"minPrice\":300,\"maxPrice\":450,\"date\":\"2021-03-31 19:00:00\",\"avail\":390,\"placementId\":107}\n"
     ]
    }
   ],
   "source": [
    "w = re.sub(r'[^:]\"\"',' ', x).replace(' \"', ' ').replace('\" ', ' ')\n",
    "print(w)\n",
    "y = x.replace('\"\"', '\"').replace(' \"', ' ').replace('\" ', ' ')\n"
   ]
  },
  {
   "cell_type": "code",
   "execution_count": 129,
   "metadata": {},
   "outputs": [
    {
     "output_type": "execute_result",
     "data": {
      "text/plain": [
       "{'name': 'Гречанинов. Демественная литургия',\n",
       " 'id': 778220,\n",
       " 'price': 300,\n",
       " 'category': 'Театр',\n",
       " 'category_id': 3009,\n",
       " 'image': 'https://cdn.kassir.ru/spb/poster/97/97ae0a5b8b109a05ac1ce8fae69f4058.jpg',\n",
       " 'venueName': 'Государственная академическая Капелла',\n",
       " 'position': 1,\n",
       " 'cat1': 'Театр',\n",
       " 'cat2': '',\n",
       " 'eventId': 778220,\n",
       " 'eventName': 'Гречанинов. Демественная литургия',\n",
       " 'minPrice': 300,\n",
       " 'maxPrice': 450,\n",
       " 'date': '2021-03-31 19:00:00',\n",
       " 'avail': 390,\n",
       " 'placementId': 107}"
      ]
     },
     "metadata": {},
     "execution_count": 129
    }
   ],
   "source": [
    "json.loads(w)"
   ]
  },
  {
   "cell_type": "code",
   "execution_count": null,
   "metadata": {},
   "outputs": [],
   "source": []
  }
 ]
}