{
 "metadata": {
  "language_info": {
   "codemirror_mode": {
    "name": "ipython",
    "version": 3
   },
   "file_extension": ".py",
   "mimetype": "text/x-python",
   "name": "python",
   "nbconvert_exporter": "python",
   "pygments_lexer": "ipython3",
   "version": "3.9.1"
  },
  "orig_nbformat": 2,
  "kernelspec": {
   "name": "python391jvsc74a57bd00d812c395b11b1c200509ac6c0bb3b674e303b6818cd492792c96e4ded76371e",
   "display_name": "Python 3.9.1 64-bit"
  },
  "metadata": {
   "interpreter": {
    "hash": "0d812c395b11b1c200509ac6c0bb3b674e303b6818cd492792c96e4ded76371e"
   }
  }
 },
 "nbformat": 4,
 "nbformat_minor": 2,
 "cells": [
  {
   "cell_type": "code",
   "execution_count": 1,
   "metadata": {},
   "outputs": [],
   "source": [
    "import constant\n",
    "import requests\n",
    "from bs4 import BeautifulSoup as bs\n",
    "import lxml\n",
    "import json\n",
    "import constant\n",
    "import ast\n",
    "import re, regex"
   ]
  },
  {
   "cell_type": "code",
   "execution_count": 2,
   "metadata": {},
   "outputs": [],
   "source": [
    "def get_html(url):\n",
    "    headers = {'User-Agent': 'Mozilla/5.0 (Windows NT 10.0; Win64; x64) AppleWebKit/537.36 (KHTML, like Gecko) Chrome/89.0.4389.90 Safari/537.36'}\n",
    "    r = requests.get(url, headers = headers)\n",
    "    return r"
   ]
  },
  {
   "cell_type": "code",
   "execution_count": 3,
   "metadata": {},
   "outputs": [],
   "source": [
    " r = get_html('https://kuda-spb.ru/event/')"
   ]
  },
  {
   "cell_type": "code",
   "execution_count": 4,
   "metadata": {},
   "outputs": [],
   "source": [
    "def kudago_and_kassir_date_format(date):\n",
    "    # обрезаем длинный формат даты события (кассир)\n",
    "    if len(date) > 10:\n",
    "        # '2021-04-28 20:00:00' -> '2021-04-28'\n",
    "        date =  date[0:10]\n",
    "    list_date = date.split('-')\n",
    "    # удаление нуля в числе \n",
    "    number = int(list_date[2])\n",
    "    re_format_date = str(number) + \" \" + constant.date_format_kudago[int(list_date[1])-1] + \" \" + list_date[0]\n",
    "\n",
    "    return re_format_date"
   ]
  },
  {
   "cell_type": "code",
   "execution_count": 5,
   "metadata": {},
   "outputs": [],
   "source": [
    "html = bs(r.text, 'html.parser')\n",
    "event = []\n",
    "soup_divide = html.find_all('div', class_=\"events_list\")\n",
    "soup = []\n",
    "for divide in soup_divide:\n",
    "    soup.extend(divide.find_all('div', class_ = 'event'))\n"
   ]
  },
  {
   "cell_type": "code",
   "execution_count": 12,
   "metadata": {},
   "outputs": [
    {
     "output_type": "stream",
     "name": "stdout",
     "text": [
      "Центральный выставочный зал «Манеж», Исаакиевская площадь, 1|\n\nКонцертный зал «У Финляндского», Арсенальная наб., д.13/1|\n\nПарк активного отдыха «Angry Birds Activity Park», Полюстровский проспект, дом 84, Литер А|\n\nNone|\n\nДворец Культуры имени Ленсовета, Каменноостровский проспект, дом 42|\n\nШереметевский дворец — Музей музыки, набережная реки Фонтанки, 34|\n\nИсторический парк «Россия — Моя история» в Санкт-Петербурге, Бассейная улица, дом 32, стр.1​|\n\nСевкабель Порт, Кожевенная линия, 40|\n\nСобор Петра и Павла, Невский Проспект, 22-24|\n\nТеатр «Мюзик-Холл», Александровский парк, дом 4|\n\nДворец Белосельских-Белозерских, , Невский пр., д.41|\n\nДворец Культуры имени Ленсовета, Каменноостровский проспект, дом 42|\n\nШереметевский дворец — Музей музыки, набережная реки Фонтанки, 34|\n\nГалерея Кустановича, ул. Б. Конюшенная, 11|\n\nМузей Эмоций, Итальянская ул., д. 1|\n\n"
     ]
    }
   ],
   "source": [
    "for s in soup:\n",
    "    type_event = s.find('div', class_= 'event_type').text.strip()\n",
    "    img = s.find('img').get('src')\n",
    "    title = s.find('a', itemprop=\"url\").get('title')\n",
    "    date_start = (s.find('span', itemprop='startDate').text.strip())\n",
    "    date_stop = (s.find('span', itemprop='endDate').text.strip())\n",
    "    #date_start = kudago_and_kassir_date_format(s.find('span', itemprop='startDate').text.strip())\n",
    "    #date_stop = kudago_and_kassir_date_format(s.find('span', itemprop='endDate').text.strip())\n",
    "    if date_start == date_stop:\n",
    "        date_stop = None\n",
    "    cost_data = s.find('span', itemprop= 'price').text.strip()\n",
    "    if int(cost_data) == 0:\n",
    "        cost = 'Бесплатно'\n",
    "    else:\n",
    "        cost = f'от {cost_data} рублей'\n",
    "    discounted = '0'\n",
    "    name_place = delete_SPB(s.find('div', itemprop='location').find('span', itemprop = 'name').text.strip())\n",
    "    address_place = delete_SPB(s.find('div', itemprop='location').find('span', itemprop = 'address').text.strip())\n",
    "    address = connect_full_address(name_place, address_place)\n",
    "    \n",
    "    \n",
    "    metro = None\n",
    "    link = s.find('a', itemprop='url').get('href')\n",
    "    # на сайте kuda_spb отсутствует id события -> вычисляем его по длине других знач\n",
    "    id_parse = 2*len(title)-len(img)\n",
    "\n",
    "    print(address, '\\n', sep = '|')"
   ]
  },
  {
   "cell_type": "code",
   "execution_count": 11,
   "metadata": {},
   "outputs": [],
   "source": [
    "def delete_SPB(string):\n",
    "#adr = 'г.     Санкт-Петербург,        кл .Советская, 5'\n",
    "    match = re.sub(r'\\D*Санкт-Петербург([^\\w]|$)', '', string).strip()\n",
    "    \n",
    "    return match     "
   ]
  },
  {
   "cell_type": "code",
   "execution_count": 7,
   "metadata": {},
   "outputs": [],
   "source": [
    "def connect_full_address(name_place, address_place):\n",
    "    if name_place and address_place:\n",
    "        name_place += ', '\n",
    "    full_address = name_place + address_place\n",
    "    \n",
    "    return full_address if full_address else None"
   ]
  },
  {
   "cell_type": "code",
   "execution_count": 36,
   "metadata": {},
   "outputs": [
    {
     "output_type": "stream",
     "name": "stdout",
     "text": [
      "d, d\n"
     ]
    }
   ],
   "source": [
    "name_place = 'd'\n",
    "address_place = '\n",
    "f = connect_full_address(name_place, address_place)\n",
    "print(f)"
   ]
  },
  {
   "cell_type": "code",
   "execution_count": null,
   "metadata": {},
   "outputs": [],
   "source": []
  }
 ]
}