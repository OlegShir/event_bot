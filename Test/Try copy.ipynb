{
 "metadata": {
  "language_info": {
   "codemirror_mode": {
    "name": "ipython",
    "version": 3
   },
   "file_extension": ".py",
   "mimetype": "text/x-python",
   "name": "python",
   "nbconvert_exporter": "python",
   "pygments_lexer": "ipython3",
   "version": "3.7.6"
  },
  "orig_nbformat": 2,
  "kernelspec": {
   "name": "python376jvsc74a57bd07f2fb41319d399c8c91a3eec84d3e6994a6b777073b543131b8d0dd527174eaa",
   "display_name": "Python 3.7.6 64-bit"
  },
  "metadata": {
   "interpreter": {
    "hash": "7f2fb41319d399c8c91a3eec84d3e6994a6b777073b543131b8d0dd527174eaa"
   }
  }
 },
 "nbformat": 4,
 "nbformat_minor": 2,
 "cells": [
  {
   "cell_type": "code",
   "execution_count": 2,
   "metadata": {},
   "outputs": [],
   "source": [
    "import requests\n",
    "from bs4 import BeautifulSoup as bs\n",
    "import lxml\n",
    "import json\n",
    "import constant\n",
    "import ast\n",
    "import re"
   ]
  },
  {
   "cell_type": "code",
   "execution_count": 13,
   "metadata": {},
   "outputs": [],
   "source": [
    "def delete_spec_symbol(string):\n",
    "    new_string = re.sub(r'\\s\\\"', ' &quot', string)\n",
    "    new_string = re.sub(r'\\\"', '&quot', string)\n",
    "    return new_string"
   ]
  },
  {
   "cell_type": "code",
   "execution_count": 14,
   "metadata": {},
   "outputs": [
    {
     "output_type": "stream",
     "name": "stdout",
     "text": [
      "Александровский парк, 4М (Театр &quotМюзик-Холл&quot, Малый зал)\n"
     ]
    }
   ],
   "source": [
    "address = 'Александровский парк, 4М (Театр \"Мюзик-Холл\", Малый зал)'\n",
    "s = delete_spec_symbol(address)\n",
    "print(s)"
   ]
  },
  {
   "cell_type": "code",
   "execution_count": 17,
   "metadata": {},
   "outputs": [
    {
     "output_type": "stream",
     "name": "stdout",
     "text": [
      "5\n"
     ]
    }
   ],
   "source": [
    "new_cost = '150 — 550 руб————'\n",
    "z= len(re.findall(r'\\—', new_cost))\n",
    "print(z)"
   ]
  },
  {
   "cell_type": "code",
   "execution_count": 23,
   "metadata": {},
   "outputs": [
    {
     "output_type": "stream",
     "name": "stdout",
     "text": [
      "{'limits': {'apimaps_http_geocoder_daily': {'limit': 1000, 'reset_date': '2021-04-23T21:00:00+00:00', 'value': 6}, 'apimaps_total_daily': {'limit': 25000, 'reset_date': '2021-04-23T21:00:00+00:00', 'value': 6}}}\n"
     ]
    }
   ],
   "source": [
    "headers = {'X-Auth-Key': '5c1a9786-84a9-4f2e-80d1-d66945f9bc2e'}\n",
    "r = requests.get('https://api-developer.tech.yandex.net/projects/4f3f4985-5169-4ce6-bb83-dc8fbcc5a205/services/apimaps', headers = headers)\n",
    "    \n",
    "print(r.json())"
   ]
  },
  {
   "cell_type": "code",
   "execution_count": 24,
   "metadata": {},
   "outputs": [
    {
     "output_type": "stream",
     "name": "stdout",
     "text": [
      "6\n"
     ]
    }
   ],
   "source": [
    "n = r.json()\n",
    "nn= n['limits']['apimaps_http_geocoder_daily']['value']\n",
    "print(nn)"
   ]
  },
  {
   "cell_type": "code",
   "execution_count": null,
   "metadata": {},
   "outputs": [],
   "source": []
  }
 ]
}