{
 "metadata": {
  "language_info": {
   "codemirror_mode": {
    "name": "ipython",
    "version": 3
   },
   "file_extension": ".py",
   "mimetype": "text/x-python",
   "name": "python",
   "nbconvert_exporter": "python",
   "pygments_lexer": "ipython3",
   "version": "3.9.1"
  },
  "orig_nbformat": 2,
  "kernelspec": {
   "name": "python391jvsc74a57bd00d812c395b11b1c200509ac6c0bb3b674e303b6818cd492792c96e4ded76371e",
   "display_name": "Python 3.9.1 64-bit"
  },
  "metadata": {
   "interpreter": {
    "hash": "0d812c395b11b1c200509ac6c0bb3b674e303b6818cd492792c96e4ded76371e"
   }
  }
 },
 "nbformat": 4,
 "nbformat_minor": 2,
 "cells": [
  {
   "cell_type": "code",
   "execution_count": 13,
   "metadata": {},
   "outputs": [],
   "source": [
    "import constant\n",
    "import requests\n",
    "from bs4 import BeautifulSoup as bs\n",
    "import lxml\n",
    "import json\n",
    "import constant\n",
    "import ast\n",
    "import re"
   ]
  },
  {
   "cell_type": "code",
   "execution_count": 14,
   "metadata": {},
   "outputs": [],
   "source": [
    "def get_html(url):\n",
    "    headers = {'User-Agent': 'Mozilla/5.0 (Windows NT 10.0; Win64; x64) AppleWebKit/537.36 (KHTML, like Gecko) Chrome/89.0.4389.90 Safari/537.36'}\n",
    "    r = requests.get(url, headers = headers)\n",
    "    return r"
   ]
  },
  {
   "cell_type": "code",
   "execution_count": 15,
   "metadata": {},
   "outputs": [],
   "source": [
    " r = get_html('https://kudago.com/public-api/v1.4/events/?page_size=100&order_by=-publication_date&location=spb&expand=price,place,images,categories,dates,site_url&fields=id,title,price,place,images,dates,categories,site_url')"
   ]
  },
  {
   "cell_type": "code",
   "execution_count": 31,
   "metadata": {
    "tags": [
     "outputPrepend"
    ]
   },
   "outputs": [
    {
     "output_type": "stream",
     "name": "stdout",
     "text": [
      "56c21d3b42d9e5f.jpg, концерт «Бессмертный полк», None, None, от 1300 до 3800 рублей, 0, БКЗ «Октябрьский», Лиговский просп., д. 6, Площадь Восстания, https://kudago.com/spb/event/kontsert-bessmertnyij-polk-maj-2021/, \n\n191729, Концерт, https://kudago.com/media/thumbs/640x384/images/event/11/76/11768192bc530e03e47ed46b57eeef5b.jpg, концерт Мэвла, None, None, от 900 до 2500 рублей, 0, концертный зал Aurora, Пироговская наб., д. 5/2, Площадь Ленина, https://kudago.com/spb/event/kontsert-mevl-maj-2021/, \n\n191784, Обучение, https://kudago.com/media/thumbs/640x384/images/event/8d/d3/8dd33dc41ff8344f94a62b01ae9db252.jpg, конференция Data Science Conference от Школы программирования Elbrus Coding Bootcamp, None, None, , 0, None, None, https://kudago.com/online/event/obuchenie-data-science-conference/, \n\n191780, Развлечения, https://kudago.com/media/thumbs/640x384/images/event/a8/fe/a8fe5d2ca95f213d2a7b70fdb21bc18c.jpg, фестиваль «Корюшка идёт», None, None, , 0, Новая Ладога, ул. Володарского, д. 17А, , https://kudago.com/spb/event/prazdnik-festival-koryushka-idet/, \n\n191767, Выставки, https://kudago.com/media/thumbs/640x384/images/event/e9/7a/e97abe9769ce8a4088e24a543c9cd915.jpg, fashion–проект «Детали» в особняке Трубецких-Нарышкиных, None, None, от 0 до 200 рублей, 0, особняк Трубецких-Нарышкиных, ул. Чайковского, д. 29, Чернышевская, https://kudago.com/spb/event/vyistavka-detali/, \n\n191757, Развлечения, https://kudago.com/media/thumbs/640x384/images/event/2a/52/2a52ccee25eee6e594159597999a322d.jpg, специальный показ фильма «24 снега», None, None, от 340 рублей, 0, киностудия «Ленфильм», Каменноостровский просп, д. 10, Горьковская, https://kudago.com/spb/event/kino-24-snega-aprel-2021/, \n\n191772, Отдых, https://kudago.com/media/thumbs/640x384/images/event/e5/9f/e59fae5cd9069e27e5691077d767e60d.jpg, Международный турнир по боксу «Кубок Губернатора Санкт-Петербурга», None, None, от 300 до 1000 рублей, 0, спортивный комплекс «Сибур Арена», Футбольная аллея, д.8, Крестовский Остров, https://kudago.com/spb/event/entertainment-kubok-gubernatora-sankt-peterburga/, \n\n191764, Выставки, https://kudago.com/media/thumbs/640x384/images/event/4d/e5/4de5ba489e09570656062ca726a08b03.jpg, выставка «Образ жизни», None, None, , 0, Галерея Марины Гисич, наб. реки Фонтанки, д. 121, Садовая, https://kudago.com/spb/event/vyistavka-obraz-zhizni/, \n\n191763, Выставки, https://kudago.com/media/thumbs/640x384/images/event/0a/8f/0a8fa561c99588efb6783d2d694b3c6a.jpg, выставка «Тебе, человечество!», None, None, , 0, Петропавловская крепость, Петропавловская крепость, д. 3, Горьковская, https://kudago.com/spb/event/vyistavka-tebe-chelovechestvo/, \n\n191762, Выставки, https://kudago.com/media/thumbs/640x384/images/event/96/66/9666547635b192f180a427494e4204e9.jpg, выставка «Русь купеческая Бориса Кустодиева», None, None, от 0 до 200 рублей, 0, Музей-усадьба Павла Чистякова, г. Пушкин, Московское шоссе, д. 23, , https://kudago.com/spb/event/vyistavka-rus-kupecheskaya-borisa-kustodieva/, \n\n191738, Развлечения, https://kudago.com/media/thumbs/640x384/images/event/d9/73/d973eea80a93e930b3307a80ae678dad.jpg, спектакль «Сирано де Бержерак», None, None, 600 рублей, 0, кинотеатр «Аврора», Невский просп., д. 60, Гостиный Двор, https://kudago.com/spb/event/kino-sirano-de-berzherak/, \n\n191739, Развлечения, https://kudago.com/media/thumbs/640x384/images/event/93/41/9341bde299338046dbbb2a00eff4d4e4.jpg, трилогия «Властелин колец» в кинотеатре, None, None, от 400 рублей, 0, кинотеатр «Аврора», Невский просп., д. 60, Гостиный Двор, https://kudago.com/spb/event/kino-vlastelin-kolets-aprel-2021/, \n\n191737, Развлечения, https://kudago.com/media/thumbs/640x384/images/event/a3/31/a331fb723f8d5c0bbb20e6aafabac2b2.png, фестиваль фильмов о любви Love Shorts, None, None, , 0, киноцентр «Дом Кино», Караванная ул., 12, Невский Проспект, https://kudago.com/spb/event/kino-love-shorts/, \n\n191736, Развлечения, https://kudago.com/media/thumbs/640x384/images/event/98/1d/981dd004a0a0a550c1da9b0a882c61c4.jpg, фильм «Легенда о пианисте» на большом экране, None, None, 300 рублей, 0, киноцентр «Родина», ул. Караванная, д. 12, Гостиный Двор, https://kudago.com/spb/event/kino-legenda-o-pianiste/, \n\n186170, Детям, https://kudago.com/media/thumbs/640x384/images/event/4f/a4/4fa4f1df50542ee7414199ee7fc3c789.jpg, экскурсия на кондитерскую фабрику им. К. Самойловой, None, None, от 1250 рублей, 0, None, None, https://kudago.com/spb/event/ekskursiya-ekskursiya-na-konditerskuyu-samojlovoj/, \n\n191734, Концерт, https://kudago.com/media/thumbs/640x384/images/event/30/f0/30f0ba1000e5b73bb134fa4054b504d6.jpg, концерт группы «Обе две», None, None, 1200 рублей, 0, Пространство К-30 Lobby by Roots United, Кожевенная линия, д. 30, , https://kudago.com/spb/event/kontsert-obe-dve-2021/, \n\n191706, Обучение, https://kudago.com/media/thumbs/640x384/images/event/e3/4a/e34ace50aa22f12bf2dee74da637c344.jpg, арт-экскурсии по Петербургу, Выборгу, Новгороду, Старой Ладоге и Усадьбе Богословка, None, None, билет на одного человека — 3500 руб., при покупке от 2-х билетов — 3150 руб. за билет, 0, Креативное пространство Artista, Тучков пер., 11/5., Василеостровская, https://kudago.com/spb/event/ekskursiya-art-ekskursii/, \n\n191735, Разное, https://kudago.com/media/thumbs/640x384/images/event/85/6a/856a4a72e4d0fd92e2f0fc5b9a7bd01c.jpg, Маркет In Cycle, None, None, , 0, арт-пространство Putilov Loft, Рузовская ул., д. 10-12, Пушкинская, https://kudago.com/spb/event/blagotvoritelnost-in-cycle/, \n\n191622, Отдых, https://kudago.com/media/thumbs/640x384/images/event/e4/0c/e40cf1f8d473dfa9b999cf174b00662c.jpg, царскосельский марафон от серии забегов PushkinRun, None, None, 500–2500 руб., 0, Пушкин (Царское Село), г. Пушкин, , https://kudago.com/spb/event/recreation-tsarskoselskij-marafon/, \n\n191673, Выставки, https://kudago.com/media/thumbs/640x384/images/event/bd/5e/bd5ec8cffa43cb27cd283350f8e75a88.jpg, выставка «Ярослав Гержедович. Восхитительные подробности», None, None, вход в музей — 800 рублей на год, 0, Музей современного искусства Эрарта, 29-я линия В. О., д. 2, Василеостровская, https://kudago.com/spb/event/vyistavka-yaroslav-gerzhedovich-voshititelnyie-podrobnosti/, \n\n191429, Обучение, https://kudago.com/media/thumbs/640x384/images/event/e0/76/e076c4df8030b6ba0a4d8feaed4ef0a8.png, вебинар «Современный ислам» из курса «Религии Востока: от индуизма до ислама», None, None, 720 рублей, 0, None, None, https://kudago.com/online/event/obuchenie-sovremennyj-islam/, \n\n191387, Обучение, https://kudago.com/media/thumbs/640x384/images/event/69/bb/69bb5e2ed89acb01be593fbdafef21c4.png, вебинар «История ислама» из курса «Религии Востока: от индуизма до ислама», None, None, 720 рублей, 0, None, None, https://kudago.com/online/event/obuchenie-istoriya-islama/, \n\n191386, Обучение, https://kudago.com/media/thumbs/640x384/images/event/85/2e/852e600acfc5ba0b8299c141adfd3af4.png, вебинар «Синтоизм» из курса «Религии Востока: от индуизма до ислама», None, None, 720 рублей, 0, None, None, https://kudago.com/online/event/obuchenie-sintoizm/, \n\n191385, Обучение, https://kudago.com/media/thumbs/640x384/images/event/47/0a/470aba17c335f4df6e0222be44520e93.png, вебинар «Даосизм» из курса «Религии Востока: от индуизма до ислама», None, None, 720 рублей, 0, None, None, https://kudago.com/online/event/obuchenie-daosizm/, \n\n191384, Обучение, https://kudago.com/media/thumbs/640x384/images/event/ee/8b/ee8b4bad12a640e432d2083327ef80b9.png, вебинар «Конфуцианство» из курса «Религии Востока: от индуизма до ислама», None, None, 720 рублей, 0, None, None, https://kudago.com/online/event/obuchenie-konfutsianstvo/, \n\n191383, Обучение, https://kudago.com/media/thumbs/640x384/images/event/e5/82/e582cf41e7cbfde0b09024bba88a8fcd.png, вебинар «Дзэн-буддизм» из курса «Религии Востока: от индуизма до ислама», None, None, 720 рублей, 0, None, None, https://kudago.com/online/event/obuchenie-dzen-buddizm/, \n\n191382, Обучение, https://kudago.com/media/thumbs/640x384/images/event/e4/67/e467fc9dc8ada1c5c3d0f3e2c2ee62a5.jpg, вебинар «История буддизма» из курса «Религии Востока: от индуизма до ислама», None, None, 720 рублей, 0, None, None, https://kudago.com/online/event/obuchenie-istoriya-buddizma/, \n\n191381, Обучение, https://kudago.com/media/thumbs/640x384/images/event/eb/39/eb393921a9c2a5a6103b8d040e6c417c.png, вебинар «Основные понятия буддизма» из курса «Религии Востока: от индуизма до ислама», None, None, 720 рублей, 0, None, None, https://kudago.com/online/event/obuchenie-osnovnyie-ponyatiya-buddizma/, \n\n191724, Развлечения, https://kudago.com/media/thumbs/640x384/images/event/7a/eb/7aebb71cc82aa5b76683b9d773069f6b.jpg, премьера фильма «Слепок», None, None, 400 рублей, 0, кинотеатр «Аврора», Невский просп., д. 60, Гостиный Двор, https://kudago.com/spb/event/kino-slepok/, \n\n191722, Развлечения, https://kudago.com/media/thumbs/640x384/images/event/f6/1c/f61c569de7df4a8b6b3f1c31fcffe21c.jpeg, Фестиваль «ЭкоДни на Садовой», None, None, , 0, библиотека им. А.С. Грибоедова, Садовая ул., д. 33, Сенная Площадь, https://kudago.com/spb/event/festival-ekodni-na-sadovoj/, \n\n191720, Концерт, https://kudago.com/media/thumbs/640x384/images/event/fb/47/fb47a4675f43f71cefe636d37c71c510.jpg, концерт группы «Не'Мой Фронт», None, None, от 500 до 700 рублей, 0, клуб The Place, ул. Маршала Говорова, д. 47, Балтийская, https://kudago.com/spb/event/kontsert-nemoj-front/, \n\n191713, Детям, https://kudago.com/media/thumbs/640x384/images/event/c8/56/c856674469d70ffe7c1bef3775b6ab39.jpg, квест «Охотники за привидениями», None, None, от 16200 рублей за группу от 15 человек, 0, None, None, https://kudago.com/spb/event/detyam-ohotniki-za-privideniyami/, \n\n191712, Детям, https://kudago.com/media/thumbs/640x384/images/event/ff/f4/fff416a524ce863913543adc3762e225.jpg, квесты в Константиновском дворце, None, None, от 24800 рублей за группу от 14 человек, 0, Константиновский дворец, пос. Стрельна, Берёзовая аллея, д. 3, Автово, https://kudago.com/spb/event/detyam-kvestyi-v-konstantinovskom-dvortse/, \n\n191707, Детям, https://kudago.com/media/thumbs/640x384/images/event/e3/82/e38239417dda054ae46593b301949132.jpg, экскурсия-квест «Город-крепость Кронштадт», None, None, от 10000 рублей за группу от 15 человек, 0, None, None, https://kudago.com/spb/event/detyam-gorod-krepost-kronshtadt/, \n\n191705, Детям, https://kudago.com/media/thumbs/640x384/images/event/3c/b7/3cb7b10a936c41d3f25bd6413f45a73e.jpg, квест «Дело Раскольникова. 200 лет спустя», None, None, от 10500 рублей за группу от 15 человек, 0, None, None, https://kudago.com/spb/event/detyam-delo-raskolnikova-200-let-spustya/, \n\n191703, Детям, https://kudago.com/media/thumbs/640x384/images/event/97/0a/970a14201333d589c166919c4e3a80e6.jpg, квест «Тайны старой крепости», None, None, от 9600 рублей (за 15 человек), 0, None, None, https://kudago.com/spb/event/detyam-tajnyi-staroj-kreposti/, \n\n185732, Выставки, https://kudago.com/media/thumbs/640x384/images/event/9f/7d/9f7d8bdc1de7e031bf45a9d6956b1cf1.jpeg, весенняя ювелирная выставка «Сокровища Петербурга», None, None, от 0 до 200 рублей, 0, Дворец княгини Юсуповой, Литейный просп., д. 42, , https://kudago.com/spb/event/vyistavka-sokrovischa-peterburga-2021/, \n\n191704, Разное, https://kudago.com/media/thumbs/640x384/images/event/13/8f/138fea69c099c183805311fd4777de29.jpg, открытая встреча Центра социальной поддержки и добровольчества «Созидатели», None, None, , 0, Центр социальной поддержки и добровольчества «Созидатели», Владимирский пр-т, д. 17., , https://kudago.com/spb/event/blagotvoritelnost-otkryitaya-vstrecha-sozidatelej/, \n\n191670, Концерт, https://kudago.com/media/thumbs/640x384/images/event/d2/8d/d28d155389612b91afc2fdef7822355d.jpg, концерт «Две скрипки в темноте» в Петербургском планетарии, None, None, от 800 рублей, 0, Петербургский планетарий, Александровский парк, д. 4, Горьковская, https://kudago.com/spb/event/2-violins-dark/, \n\n191659, Развлечения, https://kudago.com/media/thumbs/640x384/images/event/ba/9d/ba9d2d46eaf4a7e88b74e22b56963260.jpg, специальный показ фильма «Гунда», None, None, 450 рублей, 0, кинотеатр «Аврора», Невский просп., д. 60, Гостиный Двор, https://kudago.com/spb/event/kino-gunda/, \n\n191676, Отдых, https://kudago.com/media/thumbs/640x384/images/event/c8/30/c830884852cf754c7f7b230f9ef488bb.jpg, баскетбольный матч «Зенит» — ЦСКА, None, None, от 400 руб. (без учёта скидки), 0, спортивный комплекс «Юбилейный», просп. Добролюбова, д. 18, Спортивная, https://kudago.com/spb/event/entertainment-zenit---tsska/, \n\n191688, Концерт, https://kudago.com/media/thumbs/640x384/images/event/09/45/09454e5ce288557666dfe3751b1c57ab.jpg, концерт группы «Каста», None, None, 1800 рублей, 0, клуб А2 Green Concert, пр. Медиков, дом 3, Петроградская, https://kudago.com/spb/event/kontsert-kasta-maj-2021/, \n\n191679, Театр, https://kudago.com/media/thumbs/640x384/images/event/98/e1/98e13e37a0bce6ec1d9c1e42c9d0a318.jpg, спектакль «Колымские рассказы» в Театре имени Ленсовета, None, None, , 0, Санкт-Петербургский академический театр имени Ленсовета, пр. Владимирский, д. 12, Владимирская, https://kudago.com/spb/event/teatr-kolyimskie-rasskazyi-maj-2021/, \n\n191678, Развлечения, https://kudago.com/media/thumbs/640x384/images/event/b0/08/b008acfe89fef3618a2fcf1ed13eb15e.png, фестиваль современного танца «Пятилетка» на Новой сцене Александринского театра, None, None, , 0, Александринский театр (Новая сцена), наб. реки Фонтанки, д. 49А, Гостиный Двор, https://kudago.com/spb/event/festival-pyatiletka/, \n\n191680, Театр, https://kudago.com/media/thumbs/640x384/images/event/ef/43/ef43b9d76aabb147a2a7c05926a59609.jpg, вечер поэзии «Из фрески Вечность» в Малом драматическом театре — Театре Европы, None, None, от 500 руб., 0, Малый драматический театр — Театр Европы, ул. Рубинштейна, д. 18, Достоевская, https://kudago.com/spb/event/teatr-iz-freski-vechnost/, \n\n191669, Выставки, https://kudago.com/media/thumbs/640x384/images/event/2a/c0/2ac09b3863770e4a8bccfa6ef8c2ecd3.jpg, выставка-продажа MineralFest, None, None, , 0, Дворец культуры имени С. М. Кирова, Большой проспект В.О., д.83, Василеостровская, https://kudago.com/spb/event/vyistavka-mineralfest/, \n\n191581, Товары, https://kudago.com/media/thumbs/640x384/images/event/12/fe/12fe7339f412db60955967abc34bb6b5.png, акция «Космическая скидка 50% на билеты в GorillaPark», None, None, 600 руб., 0, парк активного отдыха GorillaPark, ул. Долгоозерная, д. 14, Комендантский Проспект, https://kudago.com/spb/event/aktsiya-kosmicheskaya-skidka-50-na-biletyi-v-gorillapark/, \n\n191610, Театр, https://kudago.com/media/thumbs/640x384/images/event/35/87/35878726f0d282f1876285892bf2a01f.jpg, музыкально-поэтический спектакль «Уроки литературы. Хрестоматия», None, None, от 4000 руб., 0, шоу-пространство «Ленинград Центр», ул. Потёмкинская, д. 4, Чернышевская, https://kudago.com/spb/event/teatr-uroki-literaturyi-hrestomatiya/, \n\n191664, Товары, https://kudago.com/media/thumbs/640x384/images/event/0d/86/0d862793aa6a4f7cc1cf85512c5e3a73.jpg, детские выпускные в парках активного отдыха Joki Joya, None, None, от 1500 рублей за человека, 0, семейные парки активного отдыха Joki Joya, Приморский просп., д. 72, Старая Деревня, https://kudago.com/spb/event/detyam-shkolnyie-vyipusknyie/, \n\n191650, Выставки, https://kudago.com/media/thumbs/640x384/images/event/1c/7f/1c7f4e058757f5ebda8d96a254cc4c09.jpg, выставка «Пять путешествий Сергея Ковальского», None, None, от 0 до 300 рублей, 0, Музей нонконформистского искусства, ул. Пушкинская, д. 10 (вход с Лиговского пр., д. 53), Владимирская, https://kudago.com/spb/event/vyistavka-pyat-puteshestvij-sergeya-kovalskogo/, \n\n191655, Разное, https://kudago.com/media/thumbs/640x384/images/event/2a/43/2a43a81afd45d35b3d05d45271069b3b.jpg, слёт выпускников ЛИАП-ГУАП, None, None, , 0, None, None, https://kudago.com/online/event/raznoe-slyot-vyipusknikov/, \n\n191654, Концерт, https://kudago.com/media/thumbs/640x384/images/event/f5/17/f517d6bb56b9cc702b3936a00a1e397e.jpg, концерт Obladaet, None, None, уточняется, 0, клуб А2 Green Concert, пр. Медиков, дом 3, Петроградская, https://kudago.com/spb/event/kontsert-obladaet-maj-2021/, \n\n191656, Концерт, https://kudago.com/media/thumbs/640x384/images/event/0c/ce/0ccea31633e4b0de95a59257663f2204.jpg, праздничный концерт к Дню Победы, None, None, от 600 до 1800 рублей, 0, спортивно-концертный комплекс «Ледовый дворец», просп. Пятилеток, д.1, Проспект Большевиков, https://kudago.com/spb/event/kontsert-prazdnichnyij-kontsert-k-dnyu-pobedyi/, \n\n191663, Концерт, https://kudago.com/media/thumbs/640x384/images/event/4e/13/4e133f3211b86390b62fae733d4ed97a.jpg, концерт группы «Где Фантом?», None, None, от 600 рублей, 0, клуб MOD, наб. канала Грибоедова, д. 7, Невский Проспект, https://kudago.com/spb/event/kontsert-gde-fantom-aprel-2021/, \n\n191661, Концерт, https://kudago.com/media/thumbs/640x384/images/event/75/bf/75bfb017a48a376874932414beb89306.png, концерт Vas', None, None, от 400 рублей, 0, Union, Литейный проспект, д. 55, Маяковская, https://kudago.com/spb/event/kontsert-vas-aprel-2021/, \n\n191651, Выставки, https://kudago.com/media/thumbs/640x384/images/event/98/96/98960a4fc604ba8b0151db265fea9cc5.jpg, выставка ботанической живописи «Искусство созерцания», None, None, , 0, Ботанический сад Петра Великого, ул. Профессора Попова, д. 2, Петроградская, https://kudago.com/spb/event/vyistavka-iskusstvo-sozertsaniya/, \n\n191647, Экскурсии, https://kudago.com/media/thumbs/640x384/images/event/2f/ae/2fae4c588b03bf32dd1aefe9b2e1ca9a.jpg, бесплатные экскурсии проекта «ХронЭкс», None, None, , 0, None, None, https://kudago.com/spb/event/ekskursiya-besplatnyie-ekskursii-proekta-hroneks/, \n\n191648, Отдых, https://kudago.com/media/thumbs/640x384/images/event/5d/6f/5d6fe7d5640cd4a513c4d108c3dfb4fe.jpg, забеги Parkrun, None, None, , 0, None, None, https://kudago.com/spb/event/recreation-zabegi-parkrun/, \n\n191649, Развлечения, https://kudago.com/media/thumbs/640x384/images/event/11/0f/110f1761bdd3f58c7d011b62d271c5dd.jpg, показ фильма «Антон тут рядом», None, None, 400 рублей, 0, кинотеатр «Кино&Театр» в отеле «Англетер», ул. Малая Морская, д. 24, Адмиралтейская, https://kudago.com/spb/event/kino-pokaz-filma-anton-tut-ryadom/, \n\n191609, Развлечения, https://kudago.com/media/thumbs/640x384/images/event/cb/e5/cbe51a85fc9028a5287215e6852f05cc.jpg, специальный показ фильма «Где ты, Адам?», None, None, 500 рублей, 0, кинотеатр «Кино&Театр» в отеле «Англетер», ул. Малая Морская, д. 24, Адмиралтейская, https://kudago.com/spb/event/kino-gde-tyi-adam/, \n\n191607, Развлечения, https://kudago.com/media/thumbs/640x384/images/event/f0/7c/f07cc930f547cc52ce215e0c34229fb9.jpg, специальный показ фильма «Дом, который построил Джек», None, None, 500 рублей, 0, киноцентр «Родина», ул. Караванная, д. 12, Гостиный Двор, https://kudago.com/spb/event/kino-dom-kotoryij-postroil-dzhek-aprel-2021/, \n\n191606, Развлечения, https://kudago.com/media/thumbs/640x384/images/event/7d/a1/7da1f0ce9fd19f1693afa54335e1e2a5.jpg, специальный показ фильма «Дочь рыбака», None, None, 350 рублей, 0, киноцентр «Родина», ул. Караванная, д. 12, Гостиный Двор, https://kudago.com/spb/event/kino-doch-ryibaka/, \n\n191600, Концерт, https://kudago.com/media/thumbs/640x384/images/event/a7/c3/a7c3fb917df29f828c74547ffc8d7e18.jpg, концерт Просто Леры, None, None, уточняется, 0, клуб «Космонавт», ул. Бронницкая, д. 24, Технологический Институт, https://kudago.com/spb/event/kontsert-prosto-lera-maj-2021/, \n\n191592, Концерт, https://kudago.com/media/thumbs/640x384/images/event/ab/df/abdf1233ae1ea5a99337be61f042cab5.jpg, концерт P.O.D., None, None, от 1700 до 5000 рублей, 0, клуб «Космонавт», ул. Бронницкая, д. 24, Технологический Институт, https://kudago.com/spb/event/kontsert-pod-maj-2021/, \n\n191590, Развлечения, https://kudago.com/media/thumbs/640x384/images/event/de/2d/de2d8ffe2a14ebad85cfce3bccf9b6e7.jpg, шоу «Уральские пельмени», None, None, от 2500 до 10000 рублей, 0, БКЗ «Октябрьский», Лиговский просп., д. 6, Площадь Восстания, https://kudago.com/spb/event/entertainment-uralskie-pelmeni-maj-2021/, \n\n"
     ]
    }
   ],
   "source": [
    "json_html = r.json()\n",
    "# список словарей всех мероприятий \n",
    "ads = json_html['results']\n",
    "# сохраняем id первого мероприятия в полученном списке\n",
    "for ad in ads:\n",
    "    # производим получение данных из json для БД\n",
    "    id_parse  = ad['id']\n",
    "    type_event_kudago = ad['categories'][0]\n",
    "    type_event = constant.dictonary_event_kudago.get(type_event_kudago, 'Разное')\n",
    "    img = ad['images'][0]['thumbnails']['640x384']\n",
    "    title = ad['title']\n",
    "    cost = ad.get('price', None)\n",
    "    discounted = '0'\n",
    "    address = ad.get('place', None)\n",
    "    if address:\n",
    "        address_place = address.get('address', None)\n",
    "        name_place = address.get('title', None)\n",
    "        address = connect_full_address(name_place, address_place)\n",
    "    try:\n",
    "        metro_list = ad['place']['subway'] \n",
    "        metro = metro_list.split(', ')[0]\n",
    "    except:\n",
    "        metro = None\n",
    "    link = ad['site_url'] \n",
    "    try:\n",
    "        date_start_info = ad['dates'][0]['start_date']\n",
    "        date_start = format.kudago_and_kassir_date_format(date_start_info)\n",
    "    except:\n",
    "        date_start = None\n",
    "    try:\n",
    "        count_date_length = len(ad['dates'])\n",
    "        if count_date_length == 1:\n",
    "            date_stop_info =  ad['dates'][0]['end_date'] \n",
    "        else:\n",
    "            date_stop_info =  ad['dates'][count_date_length-1]['start_date']\n",
    "            date_stop = format.kudago_and_kassir_date_format(date_stop_info)\n",
    "    except:\n",
    "        date_stop = None\n",
    "    if date_start == date_stop:\n",
    "        date_stop = None\n",
    "      \n",
    "    print(id_parse, type_event, img, title, date_start, date_stop, cost, discounted, address, metro, link, '\\n', sep=', ')"
   ]
  },
  {
   "cell_type": "code",
   "execution_count": null,
   "metadata": {},
   "outputs": [],
   "source": []
  },
  {
   "cell_type": "code",
   "execution_count": 73,
   "metadata": {},
   "outputs": [
    {
     "output_type": "stream",
     "name": "stdout",
     "text": [
      "Кожевенная линия 40 2-й этаж пространство «Севкабель Порт»\nм. Василеостровская\n"
     ]
    }
   ],
   "source": [
    "full_address = 'м. Василеостровская, Кожевенная линия, 40, 2-й этаж, пространство «Севкабель Порт»'\n",
    "if full_address.startswith('м.'):\n",
    "    sep_full_address = full_address.split(',')\n",
    "    address = ''.join(sep_full_address[1:]).strip()\n",
    "    metro = sep_full_address[0]\n",
    "    print(address)\n",
    "    print(metro)"
   ]
  },
  {
   "cell_type": "code",
   "execution_count": 28,
   "metadata": {},
   "outputs": [],
   "source": [
    "def connect_full_address(name_place, address_place):\n",
    "    if name_place and address_place:\n",
    "        name_place += ', '\n",
    "    full_address = name_place + address_place\n",
    "    \n",
    "    return full_address if full_address else None"
   ]
  },
  {
   "cell_type": "code",
   "execution_count": 11,
   "metadata": {},
   "outputs": [
    {
     "output_type": "stream",
     "name": "stdout",
     "text": [
      "балаган-шоу \"Жили-были` при участии группы EtnoZapil в \"Ленинград Центре`\n"
     ]
    }
   ],
   "source": [
    "z = 'балаган-шоу «Жили-были» при участии группы EtnoZapil в «Ленинград Центре»'\n",
    "x = z.replace(u'\\u00ab', '\\\"').replace(u'\\u00bb', '\\\"')\n",
    "print(x)"
   ]
  },
  {
   "cell_type": "code",
   "execution_count": null,
   "metadata": {},
   "outputs": [],
   "source": []
  }
 ]
}