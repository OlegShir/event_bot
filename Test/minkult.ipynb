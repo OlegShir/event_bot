{
 "metadata": {
  "language_info": {
   "codemirror_mode": {
    "name": "ipython",
    "version": 3
   },
   "file_extension": ".py",
   "mimetype": "text/x-python",
   "name": "python",
   "nbconvert_exporter": "python",
   "pygments_lexer": "ipython3",
   "version": "3.9.1"
  },
  "orig_nbformat": 2,
  "kernelspec": {
   "name": "python391jvsc74a57bd00d812c395b11b1c200509ac6c0bb3b674e303b6818cd492792c96e4ded76371e",
   "display_name": "Python 3.9.1 64-bit"
  },
  "metadata": {
   "interpreter": {
    "hash": "0d812c395b11b1c200509ac6c0bb3b674e303b6818cd492792c96e4ded76371e"
   }
  }
 },
 "nbformat": 4,
 "nbformat_minor": 2,
 "cells": [
  {
   "cell_type": "code",
   "execution_count": 1,
   "metadata": {},
   "outputs": [],
   "source": [
    "import constant\n",
    "import requests\n",
    "from bs4 import BeautifulSoup as bs\n",
    "import lxml\n",
    "import json\n",
    "import constant\n",
    "import ast\n",
    "import re"
   ]
  },
  {
   "cell_type": "code",
   "execution_count": 16,
   "metadata": {},
   "outputs": [],
   "source": [
    "def get_html(url):\n",
    "    headers = {'Accept': 'application/json',\n",
    "               'X-API-KEY': constant.API_MINKULT,\n",
    "    }\n",
    "    params =    ( ('f', '{\"data.general.start\":{\"$gt\":\"2021-04-17\"},\"data.general.organizerPlace.name\":{\"$contain\":\"\\u0421\\u0430\\u043D\\u043A\\u0442-\\u041F\\u0435\\u0442\\u0435\\u0440\\u0431\\u0443\\u0440\\u0433\"}}'),\n",
    "    ('o', 'data.general.start'),\n",
    "    ('l', '10'),\n",
    ")\n",
    "    r = requests.get(url, headers = headers)\n",
    "    return r"
   ]
  },
  {
   "cell_type": "code",
   "execution_count": 28,
   "metadata": {},
   "outputs": [],
   "source": [
    " r = get_html('https://opendata.mkrf.ru/v2/events/$?f={\"data.general.start\":{\"$gt\":\"2021-04-17 00:00\"},\"data.general.organizerPlace.locale.name\":{\"$search\":\"Санкт-Петербург\"}}&o=data.general.start&l=10')"
   ]
  },
  {
   "cell_type": "code",
   "execution_count": 29,
   "metadata": {},
   "outputs": [
    {
     "output_type": "stream",
     "name": "stdout",
     "text": [
      "{'f': {'$and': [{'data.general.start': {'$gt': '2021-04-17 00:00'}}, {'data.general.organizerPlace.locale.name': {'$search': 'Санкт-Петербург'}}, {'odSetVersions': {'$in': ['5c3ce3f56cded97112201570']}}]}, 'a': False, 'o': {'[object Object]': 1}, 'l': 10, 's': 0, 'sel': ['-errorFields', '-modifier', '-creator', '-sourceFile', '-department', '-__v', '-__t'], 'e': False, 'code': 400, 'data': [], 'message': \"Error: Unknown field 'data.general.organizerPlace.locale.name' in search query\"}\n"
     ]
    }
   ],
   "source": [
    "print(r.json())"
   ]
  },
  {
   "cell_type": "code",
   "execution_count": 18,
   "metadata": {},
   "outputs": [
    {
     "output_type": "error",
     "ename": "KeyError",
     "evalue": "'general'",
     "traceback": [
      "\u001b[1;31m---------------------------------------------------------------------------\u001b[0m",
      "\u001b[1;31mKeyError\u001b[0m                                  Traceback (most recent call last)",
      "\u001b[1;32m<ipython-input-18-9ab25fb4decf>\u001b[0m in \u001b[0;36m<module>\u001b[1;34m\u001b[0m\n\u001b[0;32m      1\u001b[0m \u001b[0mads_json\u001b[0m \u001b[1;33m=\u001b[0m \u001b[0mr\u001b[0m\u001b[1;33m.\u001b[0m\u001b[0mjson\u001b[0m\u001b[1;33m(\u001b[0m\u001b[1;33m)\u001b[0m\u001b[1;33m\u001b[0m\u001b[1;33m\u001b[0m\u001b[0m\n\u001b[1;32m----> 2\u001b[1;33m \u001b[0mads\u001b[0m \u001b[1;33m=\u001b[0m \u001b[0mads_json\u001b[0m\u001b[1;33m[\u001b[0m\u001b[1;34m'general'\u001b[0m\u001b[1;33m]\u001b[0m\u001b[1;33m\u001b[0m\u001b[1;33m\u001b[0m\u001b[0m\n\u001b[0m\u001b[0;32m      3\u001b[0m \u001b[0mprint\u001b[0m\u001b[1;33m(\u001b[0m\u001b[0mads\u001b[0m\u001b[1;33m)\u001b[0m\u001b[1;33m\u001b[0m\u001b[1;33m\u001b[0m\u001b[0m\n",
      "\u001b[1;31mKeyError\u001b[0m: 'general'"
     ]
    }
   ],
   "source": [
    "ads_json = r.json()\n",
    "ads = ads_json['general']\n",
    "print(ads)"
   ]
  },
  {
   "cell_type": "code",
   "execution_count": null,
   "metadata": {},
   "outputs": [],
   "source": []
  }
 ]
}