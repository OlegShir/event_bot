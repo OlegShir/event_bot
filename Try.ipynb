{
 "metadata": {
  "language_info": {
   "codemirror_mode": {
    "name": "ipython",
    "version": 3
   },
   "file_extension": ".py",
   "mimetype": "text/x-python",
   "name": "python",
   "nbconvert_exporter": "python",
   "pygments_lexer": "ipython3",
   "version": "3.9.1-final"
  },
  "orig_nbformat": 2,
  "kernelspec": {
   "name": "python3",
   "display_name": "Python 3.9.1 64-bit",
   "metadata": {
    "interpreter": {
     "hash": "0d812c395b11b1c200509ac6c0bb3b674e303b6818cd492792c96e4ded76371e"
    }
   }
  }
 },
 "nbformat": 4,
 "nbformat_minor": 2,
 "cells": [
  {
   "cell_type": "code",
   "execution_count": 115,
   "metadata": {},
   "outputs": [],
   "source": [
    "import requests\n",
    "from bs4 import BeautifulSoup as bs\n",
    "import lxml\n",
    "import json\n",
    "import constant\n",
    "import ast\n",
    "import re"
   ]
  },
  {
   "cell_type": "code",
   "execution_count": 2,
   "metadata": {},
   "outputs": [],
   "source": [
    "def get_html(url):\n",
    "    headers = {'User-Agent': 'Mozilla/5.0 (Windows NT 10.0; Win64; x64) AppleWebKit/537.36 (KHTML, like Gecko) Chrome/89.0.4389.90 Safari/537.36'}\n",
    "    r = requests.get(url, headers = headers)\n",
    "    return r"
   ]
  },
  {
   "cell_type": "code",
   "execution_count": 3,
   "metadata": {},
   "outputs": [],
   "source": [
    " r = get_html('https://spb.kassir.ru/bilety-na-koncert?sort=1')"
   ]
  },
  {
   "cell_type": "code",
   "execution_count": 176,
   "metadata": {},
   "outputs": [
    {
     "output_type": "stream",
     "name": "stdout",
     "text": [
      "<Response [200]>\n"
     ]
    }
   ],
   "source": [
    "print(r)"
   ]
  },
  {
   "cell_type": "code",
   "execution_count": 4,
   "metadata": {
    "tags": []
   },
   "outputs": [],
   "source": [
    "html = bs(r.text, 'html.parser')\n",
    "#soup = html.find_all('script', type=\"application/ld+json\")\n",
    "#s = soup[1]\n",
    "#s = str(soup[1].string)\n",
    "#t = json.loads(s)\n",
    "#print(t)\n",
    "event = []\n",
    "soup = html.find_all('div', class_=\"col-xs-2\")\n",
    "s = soup[1]"
   ]
  },
  {
   "cell_type": "code",
   "execution_count": 6,
   "metadata": {},
   "outputs": [
    {
     "output_type": "stream",
     "name": "stdout",
     "text": [
      "{\"name\":\"Подарочный сертификат KASSIR.RU\",\"id\":212224,\"price\":500,\"category\":\"Концерт\",\"category_id\":3000,\"image\":\"https://cdn.kassir.ru/spb/poster/d0/d09b6e0d1dfa8611707b935eb277c733.jpg\",\"venueName\":\"\",\"position\":0,\"cat1\":\"Концерт\",\"cat2\":\"\",\"eventId\":212224,\"eventName\":\"Подарочный сертификат KASSIR.RU\",\"minPrice\":500,\"maxPrice\":15000,\"date\":\"2020-01-01 00:00:00\",\"avail\":0,\"placementId\":1252}\n<class 'str'>\n"
     ]
    }
   ],
   "source": [
    "html_event = s.find('div', class_='event').attrs['data-ec-item']\n",
    "print(html_event)\n",
    "print(type(html_event))"
   ]
  },
  {
   "cell_type": "code",
   "execution_count": 171,
   "metadata": {},
   "outputs": [
    {
     "output_type": "stream",
     "name": "stdout",
     "text": [
      "[(12257, 'Концерт', 'https://cdn.kassir.ru/kassir.ru/poster/7f/7f8e0525bf368e6f0bd8b1073be7ca4e.jpg', 'Кентервильское привидение', '28 марта 2021', '25 апреля 2021', 'от 600 до 800 рублей', 0, 'Театр Мастерская, ул. Народная, дом 1', None, 'https://spb.kassir.ru/koncert/teatr-masterskaya/kentervilskoe-prividenie_2021-03-28')]\n"
     ]
    }
   ],
   "source": [
    "event = []\n",
    "id_parse = html_event['id']\n",
    "# получем минимальную и максимальную стоимость события\n",
    "min_cost = html_event['minPrice']\n",
    "max_cost = html_event['maxPrice']\n",
    "# формируем стоимость\n",
    "if min_cost == max_cost:\n",
    "    cost = str(max_cost) + ' рублей'\n",
    "else:\n",
    "    cost = 'от ' + str(min_cost) + ' до ' + str(max_cost) + ' рублей'\n",
    "# получаем дату события\n",
    "date = html_event['date']\n",
    "# если событие не один день\n",
    "if type(date) == dict:\n",
    "    date_start = re_format_kudago(html_event['date']['start_min'])\n",
    "    date_stop = re_format_kudago(html_event['date']['start_max'])\n",
    "else:\n",
    "    date_start = re_format_kudago(date)\n",
    "    date_stop = None\n",
    "type_event = \"Концерт\"\n",
    "# вшитый в страницу сктипт с параметрами события\n",
    "dictonary_event = json.loads(str(s.find('script', type=\"application/ld+json\").string))\n",
    "img = dictonary_event['image']\n",
    "title = dictonary_event['name']\n",
    "discounted = 0\n",
    "address_place = dictonary_event['location']['address']\n",
    "# убираем Санк-Петербург из адреса\n",
    "if address_place.startswith('Санкт'):\n",
    "    address_spb = address_place.split(', ')\n",
    "    address_place = ', '.join(address_spb[1:])\n",
    "address = dictonary_event['location']['name'] + \", \" + address_place\n",
    "metro = None\n",
    "link = dictonary_event['url']\n",
    "event.insert(0, (id_parse,type_event, img, title, date_start, date_stop, cost, discounted, address, metro, link))\n",
    "print(event)"
   ]
  },
  {
   "cell_type": "code",
   "execution_count": 155,
   "metadata": {},
   "outputs": [],
   "source": [
    "def re_format_kudago(date):\n",
    "    if len(date) > 10:\n",
    "        # '2021-04-28 20:00:00'\n",
    "        date =  date[0:10]\n",
    "    list_date = date.split('-')\n",
    "# удаление нуля в числе \n",
    "    number = int(list_date[2])\n",
    "    re_format_date = str(number) + \" \" + constant.date_format_kudago[int(list_date[1])-1] + \" \" + list_date[0]\n",
    "    return re_format_date"
   ]
  },
  {
   "cell_type": "code",
   "execution_count": 150,
   "metadata": {},
   "outputs": [
    {
     "output_type": "stream",
     "name": "stdout",
     "text": [
      "2021-04-28\n"
     ]
    }
   ],
   "source": [
    "x = '2021-04-28 20:00:00'\n",
    "y =  x[0:10]\n",
    "print(y)"
   ]
  },
  {
   "cell_type": "code",
   "execution_count": 127,
   "metadata": {},
   "outputs": [
    {
     "output_type": "stream",
     "name": "stdout",
     "text": [
      "{\"name\":\"Гречанинов. Демественная литургия\",\"id\":778220,\"price\":300,\"category\":\"Театр\",\"category_id\":3009,\"image\":\"https://cdn.kassir.ru/spb/poster/97/97ae0a5b8b109a05ac1ce8fae69f4058.jpg\",\"venueName\":\"Государственная академическая Капелла\",\"position\":1,\"cat1\":\"Театр\",\"cat2\":\"\",\"eventId\":778220,\"eventName\":\"Гречанинов. Демественная литургия\",\"minPrice\":300,\"maxPrice\":450,\"date\":\"2021-03-31 19:00:00\",\"avail\":390,\"placementId\":107}\n"
     ]
    }
   ],
   "source": [
    "x = '{\"name\":\"Гречанинов. Демественная литургия\",\"id\":778220,\"price\":300,\"category\":\"Театр\",\"category_id\":3009,\"image\":\"https://cdn.kassir.ru/spb/poster/97/97ae0a5b8b109a05ac1ce8fae69f4058.jpg\",\"venueName\":\"Государственная академическая Капелла\",\"position\":1,\"cat1\":\"Театр\",\"cat2\":\"\",\"eventId\":778220,\"eventName\":\"Гречанинов. Демественная литургия\",\"minPrice\":300,\"maxPrice\":450,\"date\":\"2021-03-31 19:00:00\",\"avail\":390,\"placementId\":107}'\n",
    "\n",
    "\n",
    "print(x)"
   ]
  },
  {
   "cell_type": "code",
   "execution_count": 128,
   "metadata": {},
   "outputs": [
    {
     "output_type": "stream",
     "name": "stdout",
     "text": [
      "{\"name\":\"Гречанинов. Демественная литургия\",\"id\":778220,\"price\":300,\"category\":\"Театр\",\"category_id\":3009,\"image\":\"https://cdn.kassir.ru/spb/poster/97/97ae0a5b8b109a05ac1ce8fae69f4058.jpg\",\"venueName\":\"Государственная академическая Капелла\",\"position\":1,\"cat1\":\"Театр\",\"cat2\":\"\",\"eventId\":778220,\"eventName\":\"Гречанинов. Демественная литургия\",\"minPrice\":300,\"maxPrice\":450,\"date\":\"2021-03-31 19:00:00\",\"avail\":390,\"placementId\":107}\n"
     ]
    }
   ],
   "source": [
    "w = re.sub(r'[^:]\"\"',' ', x).replace(' \"', ' ').replace('\" ', ' ')\n",
    "print(w)\n",
    "y = x.replace('\"\"', '\"').replace(' \"', ' ').replace('\" ', ' ')\n"
   ]
  },
  {
   "cell_type": "code",
   "execution_count": 129,
   "metadata": {},
   "outputs": [
    {
     "output_type": "execute_result",
     "data": {
      "text/plain": [
       "{'name': 'Гречанинов. Демественная литургия',\n",
       " 'id': 778220,\n",
       " 'price': 300,\n",
       " 'category': 'Театр',\n",
       " 'category_id': 3009,\n",
       " 'image': 'https://cdn.kassir.ru/spb/poster/97/97ae0a5b8b109a05ac1ce8fae69f4058.jpg',\n",
       " 'venueName': 'Государственная академическая Капелла',\n",
       " 'position': 1,\n",
       " 'cat1': 'Театр',\n",
       " 'cat2': '',\n",
       " 'eventId': 778220,\n",
       " 'eventName': 'Гречанинов. Демественная литургия',\n",
       " 'minPrice': 300,\n",
       " 'maxPrice': 450,\n",
       " 'date': '2021-03-31 19:00:00',\n",
       " 'avail': 390,\n",
       " 'placementId': 107}"
      ]
     },
     "metadata": {},
     "execution_count": 129
    }
   ],
   "source": [
    "json.loads(w)"
   ]
  },
  {
   "cell_type": "code",
   "execution_count": null,
   "metadata": {},
   "outputs": [],
   "source": []
  }
 ]
}