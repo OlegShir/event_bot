{
 "metadata": {
  "language_info": {
   "codemirror_mode": {
    "name": "ipython",
    "version": 3
   },
   "file_extension": ".py",
   "mimetype": "text/x-python",
   "name": "python",
   "nbconvert_exporter": "python",
   "pygments_lexer": "ipython3",
   "version": "3.7.6"
  },
  "orig_nbformat": 2,
  "kernelspec": {
   "name": "python376jvsc74a57bd07f2fb41319d399c8c91a3eec84d3e6994a6b777073b543131b8d0dd527174eaa",
   "display_name": "Python 3.7.6 64-bit"
  },
  "metadata": {
   "interpreter": {
    "hash": "7f2fb41319d399c8c91a3eec84d3e6994a6b777073b543131b8d0dd527174eaa"
   }
  }
 },
 "nbformat": 4,
 "nbformat_minor": 2,
 "cells": [
  {
   "cell_type": "code",
   "execution_count": 3,
   "metadata": {},
   "outputs": [],
   "source": [
    "import constant\n",
    "import requests\n",
    "from bs4 import BeautifulSoup as bs\n",
    "import lxml\n",
    "import json\n",
    "import constant\n",
    "import ast\n",
    "import re"
   ]
  },
  {
   "cell_type": "code",
   "execution_count": 4,
   "metadata": {},
   "outputs": [],
   "source": [
    "def get_html(url):\n",
    "    headers = {'User-Agent': 'Mozilla/5.0 (Windows NT 10.0; Win64; x64) AppleWebKit/537.36 (KHTML, like Gecko) Chrome/89.0.4389.90 Safari/537.36'}\n",
    "    r = requests.get(url, headers = headers)\n",
    "    return r"
   ]
  },
  {
   "cell_type": "code",
   "execution_count": 5,
   "metadata": {},
   "outputs": [],
   "source": [
    " r = get_html('https://www.fiesta.ru/spb/novelty/events/')"
   ]
  },
  {
   "cell_type": "code",
   "execution_count": 40,
   "metadata": {},
   "outputs": [],
   "source": [
    "def fiesta_data_format(date):\n",
    "    symbol = [',', '–']\n",
    "    try:\n",
    "        symbol_sep = [s for s in symbol if s in date]\n",
    "        if symbol_sep:\n",
    "            date_array = date.split(symbol_sep[0])\n",
    "            date_start = date_array[0].strip()\n",
    "            date_stop = date_array[-1].strip()\n",
    "        else:\n",
    "            date_start = date\n",
    "            date_stop = None\n",
    "    except:\n",
    "        date_start = None\n",
    "        date_stop = None\n",
    "    return date_start, date_stop"
   ]
  },
  {
   "cell_type": "code",
   "execution_count": null,
   "metadata": {},
   "outputs": [],
   "source": [
    "id_parse, type_event, img, title, date_start, date_stop, cost, discounted, address, metro, link"
   ]
  },
  {
   "cell_type": "code",
   "execution_count": 74,
   "metadata": {
    "tags": []
   },
   "outputs": [
    {
     "output_type": "stream",
     "name": "stdout",
     "text": [
      "46832\nfiesta\nhttps://www.fiesta.ru/uploads/slider_image/image/182059/slider_carousel_thumb_Za5qNk5nFOY.jpg\nПраздник «Грядка смотрителя \"Маяка\"»\n6 апреля\n11 апреля\nЛенинский пр. 92 / 1\nм. Ленинский проспект\nhttps://www.fiesta.ru/spb/events/prazdnik-gryadka-smotritelya-mayaka/\n\n\n\n46825\nfiesta\nhttps://www.fiesta.ru/uploads/slider_image/image/182037/slider_carousel_thumb_jBIbsLWU-SE.jpg\nМеждународная фотовыставка «Материнство в дикой природе»\n4 апреля\n15 апреля\nг. Выборг, улица П. Ф. Ладанова, 1\nNone\nhttps://www.fiesta.ru/spb/events/mezhdunarodnaya-fotovystavka-materinstvo-v-dikoy-prirode/\n\n\n\n46813\nfiesta\nhttps://www.fiesta.ru/uploads/slider_image/image/182008/slider_carousel_thumb_DSC_8546.jpg\nВыставка «Убежище. Welcome to the paradise»\n4 апреля\n23 мая\nшоссе Революции 84АБ\nм. Ладожская\nhttps://www.fiesta.ru/spb/events/vystavka-ubezhische-welcome-to-the-paradise/\n\n\n\n30088\nfiesta\nhttps://www.fiesta.ru/uploads/slider_image/image/156426/slider_carousel_thumb_%D0%B1%D1%8119.jpg\nВечеринки романтических знакомств от Dating-City \n9 апреля\n11 апреля\nNone\nNone\nhttps://www.fiesta.ru/spb/events/vecherinki-romanticheskih-znakomstv-ot-dating-city/\n\n\n\n46394\nfiesta\nhttps://www.fiesta.ru/uploads/slider_image/image/180465/slider_carousel_thumb_%D0%B3%D0%B0%D1%801.jpg\n«Гаражная распродажа в Порту»\n10 апреля\n11 апреля\nКожевенная линия 40 2-й этаж пространство «Севкабель Порт»\nм. Василеостровская\nhttps://www.fiesta.ru/spb/events/garazhnaya-rasprodazha-v-portu/\n\n\n\n46765\nfiesta\nhttps://www.fiesta.ru/uploads/slider_image/image/181854/slider_carousel_thumb_v880_%D0%B3%D0%BE%D0%BB%D1%81%D0%BE.jpg\nКонцерт «Антология голоса»\n11 апреля\nNone\nнаб. Фонтанки 36 концертный зал РНБ\nм. Гостиный Двор\nhttps://www.fiesta.ru/spb/events/kontsert-antologiya-golosa/\n\n\n\n46763\nfiesta\nhttps://www.fiesta.ru/uploads/slider_image/image/181847/slider_carousel_thumb_v880_%D0%BA%D0%B8%D1%80%D1%85%D0%B0.jpg\nКонцерт «Под музыку Вивальди»\n11 апреля\nNone\nСредний проспект В.О. 18 лютеранская церковь Святого Михаила\nм. Василеостровская\nhttps://www.fiesta.ru/spb/events/kontsert-pod-muzyku-vivaldi/\n\n\n\n46754\nfiesta\nhttps://www.fiesta.ru/uploads/slider_image/image/181821/slider_carousel_thumb_%D0%B3%D0%B0%D0%B3%D0%B0%D1%801.jpg\nМультимедийное шоу «Гагарин Night»\n12 апреля\nNone\nАлександровский парк 4 Петербургский планетарий\nм. Горьковская\nhttps://www.fiesta.ru/spb/events/multimediynoe-shou-gagarin-night/\n\n\n\n46721\nfiesta\nhttps://www.fiesta.ru/uploads/slider_image/image/181709/slider_carousel_thumb_%D1%88%D1%83%D0%B8%D1%84%D0%BA.jpg\nКонцерт Михаила Шуфутинского\n 8 апреля\nNone\nЛиговский пр. 6 БКЗ «Октябрьский»\nм. Площадь Восстания\nhttps://www.fiesta.ru/spb/events/kontsert-mihaila-shufutinskogo/\n\n\n\n46711\nfiesta\nhttps://www.fiesta.ru/uploads/slider_image/image/181687/slider_carousel_thumb_Mezzanine-set-scaled.jpg\nПетербургский ресторанный фестиваль\n1 апреля\n15 апреля\nNone\nNone\nhttps://www.fiesta.ru/spb/events/v-peterburge-proydyot-restorannyy-festival-gde-mozhno-otvedat-izyskannye-sety-ot/\n\n\n\n46313\nfiesta\nhttps://www.fiesta.ru/uploads/slider_image/image/180114/slider_carousel_thumb_A_M_Opekushin_Model_pamyatnika_A_S_Pushkinu_v_Moskve_1875_Bronza_100_kh_37_kh_30_sm__Institut_russkoy_literatury_Pushkins.jpg\nВыставка «(Не)подвижность. Русская классическая скульптура от Ф. И. Шубина до А. Т. Матвеева»\n24 марта\n16 мая\nИсаакиевская пл. 1 центральный выставочный зал «Манеж»\nм. Адмиралтейская\nhttps://www.fiesta.ru/spb/events/vystavka-nepodvizhnost-russkaya-klassicheskaya-skulptura-ot-f-i-shubina-do-a-t-matveeva/\n\n\n\n20147\nfiesta\nhttps://www.fiesta.ru/uploads/slider_image/image/178075/slider_carousel_thumb_%D0%BB%D1%8E%D0%BC1.jpg\nМультимедийные проекты «Айвазовский. Кандинский. Бэнкси. Дали. Ожившие полотна» \n6 июля\n30 мая\nнаб. Обводного канала 74Д креативное пространство «Люмьер-холл»\nм. Фрунзенская\nhttps://www.fiesta.ru/spb/events/vystavki-ayvazovskiy-zhivye-polotna-i-rerih-zhivye-polotna/\n\n\n\n35594\nfiesta\nhttps://www.fiesta.ru/uploads/slider_image/image/165460/slider_carousel_thumb_yaMfnlxsZtY.jpg\nВыставка «Сад сновидений 2.0. Мистические миры»\n6 июля\n30 мая\nнаб. Обводного канала 74Д креативное пространство «Люмьер-холл»\nм. Обводный канал\nhttps://www.fiesta.ru/spb/events/vystavka-sad-snovideniy/\n\n\n\n46656\nfiesta\nhttps://www.fiesta.ru/uploads/slider_image/image/181462/slider_carousel_thumb_DSC_1854.jpg\nМультимедийная выставка Universum\n19 марта\n18 апреля\nКожевенная линия 40Д пространство «Севкабель Порт»\nм. Приморская\nhttps://www.fiesta.ru/spb/events/multimediynaya-vystavka-universum/\n\n\n\n46631\nfiesta\nhttps://www.fiesta.ru/uploads/slider_image/image/181377/slider_carousel_thumb_file%20_7_.jpeg\nВыставка «Освобождённая Европа»\n2 апреля\n30 мая\nБольшая Морская ул. 35 «Росфото»\nм. Адмиралтейская\nhttps://www.fiesta.ru/spb/events/vystavka-osvobozhdennaya-evropa/\n\n\n\n46577\nfiesta\nhttps://www.fiesta.ru/uploads/slider_image/image/181149/slider_carousel_thumb_XbgyLt03T1Y.jpg\nВыставка «Искусство созерцания»\n3 апреля\n18 апреля\nул. Профессора Попова 2 Ботанический сад Зелёный домик\nм. Петроградская\nhttps://www.fiesta.ru/spb/events/vystavka-iskusstvo-sozertsaniya-1616170152/\n\n\n\n46570\nfiesta\nhttps://www.fiesta.ru/uploads/slider_image/image/181120/slider_carousel_thumb_%D0%BF%D0%B8%D1%821.jpg\nВыставка «2017. Pirelli Calendar by Peter Lindbergh and More…»\n5 марта\n6 июня\n29-я линия В. О. 2 Музей современного искусства Эрарта\nм. Василеостровская\nhttps://www.fiesta.ru/spb/events/vystavka-2017-pirelli-calendar-by-peter-lindbergh-and-more/\n\n\n\n46540\nfiesta\nhttps://www.fiesta.ru/uploads/slider_image/image/181040/slider_carousel_thumb_%D0%9A%D0%BE%D0%BF%D0%B8%D1%8F%20LC1.jpg\nШоу «Семь. Хроника любовных происшествий»\n1 апреля\n17 апреля\nПотёмкинская ул. 4 «Ленинград Центр»\nм. Чернышевская\nhttps://www.fiesta.ru/spb/events/shou-sem-hronika-lyubovnyh-proisshestviy/\n\n\n\n"
     ]
    }
   ],
   "source": [
    "html = bs(r.text, 'html.parser')\n",
    "event = []\n",
    "soup = html.find_all('div', class_=\"grid_i grid_i__desktop-grid-1-3 grid_i__tablet-grid-1-2 grid_i__phone-grid-1-1\")\n",
    "#s = soup[2]\n",
    "for s in soup:\n",
    "    id_parse = s.find('footer').attrs['data-calendar-item']\n",
    "    type_event = 'fiesta' # !!!!!!!!!!\n",
    "    img = 'https://www.fiesta.ru' + s.find('img').get('src')\n",
    "    title = s.find('a', class_='unit_t_a double-hover').get_text()\n",
    "    # получаем дату события\n",
    "    date = s.find('p', class_='unit_date').get_text()\n",
    "    date_start, date_stop = fiesta_data_format(date)\n",
    "    link = 'https://www.fiesta.ru' + s.find('a', class_='unit_t_a double-hover').get('href')\n",
    "    '''  \n",
    "    # получение цены\n",
    "    cost_html_link = get_html(link)\n",
    "    cost_html_event = bs(html_link.text, 'html.parser')\n",
    "    cost = html_event.find('div', class_='article_details').find_all('dd', class_='grid_i grid_i__desktop-grid-5-6 grid_i__tablet-grid-5-6 grid_i__phone-grid-1-1')[-1].get_text().strip()\n",
    "    # если чтоимости нет -> то в cost попадает дата события, необходимо проверить ее наличие\n",
    "    if any(x in cost for x in constant.date_format_kudago):\n",
    "        cost = None \n",
    "    '''\n",
    "    discounted = '0'\n",
    "    try:\n",
    "        full_address = s.find('p', class_='unit_place').get_text()\n",
    "        if full_address.startswith('м.'):\n",
    "            sep_full_address = full_address.split(',')\n",
    "            address = ''.join(sep_full_address[1:]).strip()\n",
    "            metro = sep_full_address[0]\n",
    "        else:\n",
    "            address = full_address\n",
    "            metro = None\n",
    "    except:\n",
    "        address = None\n",
    "        metro = None\n",
    "  \n",
    "    print(id_parse, type_event, img, title, date_start, date_stop, address, metro, link , '\\n\\n', sep = '\\n')\n",
    "    #print(cost, title, link, img, date,  '\\n', sep='\\n')\n",
    "\n"
   ]
  },
  {
   "cell_type": "code",
   "execution_count": 73,
   "metadata": {},
   "outputs": [
    {
     "output_type": "stream",
     "name": "stdout",
     "text": [
      "Кожевенная линия 40 2-й этаж пространство «Севкабель Порт»\nм. Василеостровская\n"
     ]
    }
   ],
   "source": [
    "full_address = 'м. Василеостровская, Кожевенная линия, 40, 2-й этаж, пространство «Севкабель Порт»'\n",
    "if full_address.startswith('м.'):\n",
    "    sep_full_address = full_address.split(',')\n",
    "    address = ''.join(sep_full_address[1:]).strip()\n",
    "    metro = sep_full_address[0]\n",
    "    print(address)\n",
    "    print(metro)"
   ]
  },
  {
   "cell_type": "code",
   "execution_count": null,
   "metadata": {},
   "outputs": [],
   "source": []
  }
 ]
}