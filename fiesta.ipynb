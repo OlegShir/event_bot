{
 "metadata": {
  "language_info": {
   "codemirror_mode": {
    "name": "ipython",
    "version": 3
   },
   "file_extension": ".py",
   "mimetype": "text/x-python",
   "name": "python",
   "nbconvert_exporter": "python",
   "pygments_lexer": "ipython3",
   "version": "3.7.6"
  },
  "orig_nbformat": 2,
  "kernelspec": {
   "name": "python376jvsc74a57bd07f2fb41319d399c8c91a3eec84d3e6994a6b777073b543131b8d0dd527174eaa",
   "display_name": "Python 3.7.6 64-bit"
  },
  "metadata": {
   "interpreter": {
    "hash": "7f2fb41319d399c8c91a3eec84d3e6994a6b777073b543131b8d0dd527174eaa"
   }
  }
 },
 "nbformat": 4,
 "nbformat_minor": 2,
 "cells": [
  {
   "cell_type": "code",
   "execution_count": 101,
   "metadata": {},
   "outputs": [],
   "source": [
    "import constant\n",
    "import requests\n",
    "from bs4 import BeautifulSoup as bs\n",
    "import lxml\n",
    "import json\n",
    "import constant\n",
    "import ast\n",
    "import re"
   ]
  },
  {
   "cell_type": "code",
   "execution_count": 16,
   "metadata": {},
   "outputs": [],
   "source": [
    "def get_html(url):\n",
    "    headers = {'User-Agent': 'Mozilla/5.0 (Windows NT 10.0; Win64; x64) AppleWebKit/537.36 (KHTML, like Gecko) Chrome/89.0.4389.90 Safari/537.36'}\n",
    "    r = requests.get(url, headers = headers)\n",
    "    return r"
   ]
  },
  {
   "cell_type": "code",
   "execution_count": 4,
   "metadata": {},
   "outputs": [],
   "source": [
    " r = get_html('https://www.fiesta.ru/spb/novelty/events/')"
   ]
  },
  {
   "cell_type": "code",
   "execution_count": 8,
   "metadata": {},
   "outputs": [
    {
     "output_type": "stream",
     "name": "stdout",
     "text": [
      "<Response [200]>\n"
     ]
    }
   ],
   "source": [
    "print(r)"
   ]
  },
  {
   "cell_type": "code",
   "execution_count": null,
   "metadata": {},
   "outputs": [],
   "source": [
    "id_parse,type_event, , , date_start, date_stop, cost, discounted, address, metro, "
   ]
  },
  {
   "cell_type": "code",
   "execution_count": 104,
   "metadata": {
    "tags": []
   },
   "outputs": [
    {
     "output_type": "stream",
     "name": "stdout",
     "text": [
      "Праздник «Грядка смотрителя \"Маяка\"» \n",
      " свободный \n",
      "\n",
      "\n",
      "Международная фотовыставка «Материнство в дикой природе» \n",
      " свободный \n",
      "\n",
      "\n",
      "Выставка «Убежище. Welcome to the paradise» \n",
      " 250 рублей \n",
      "\n",
      "\n",
      "Вечеринки романтических знакомств от Dating-City  \n",
      " None \n",
      "\n",
      "\n",
      "«Гаражная распродажа в Порту» \n",
      " бесплатно \n",
      "\n",
      "\n",
      "Концерт «Антология голоса» \n",
      " 500 рублей \n",
      "\n",
      "\n",
      "Концерт «Под музыку Вивальди» \n",
      " 500 рублей \n",
      "\n",
      "\n",
      "Мультимедийное шоу «Гагарин Night» \n",
      " от 500 рублей \n",
      "\n",
      "\n",
      "Концерт Михаила Шуфутинского \n",
      " от 2100 рублей \n",
      "\n",
      "\n",
      "Петербургский ресторанный фестиваль \n",
      " бесплатный \n",
      "\n",
      "\n",
      "Выставка «(Не)подвижность. Русская классическая скульптура от Ф. И. Шубина до А. Т. Матвеева» \n",
      " до 300 рублей \n",
      "\n",
      "\n",
      "Мультимедийные проекты «Айвазовский. Кандинский. Бэнкси. Дали. Ожившие полотна»  \n",
      " от 400 рублей \n",
      "\n",
      "\n",
      "Выставка «Сад сновидений 2.0. Мистические миры» \n",
      " от 400 рублей, дети до 3 лет бесплатно \n",
      "\n",
      "\n",
      "Мультимедийная выставка Universum \n",
      " от 300 рублей \n",
      "\n",
      "\n",
      "Выставка «Освобождённая Европа» \n",
      " 150 рублей \n",
      "\n",
      "\n",
      "Выставка «Искусство созерцания» \n",
      " посещение выставки входит в стоимость билета в Ботанический сад (от 50 рублей) \n",
      "\n",
      "\n",
      "Выставка «2017. Pirelli Calendar by Peter Lindbergh and More…» \n",
      " 800 рублей (единый билет на все выставки музея, действующий в течение года) \n",
      "\n",
      "\n",
      "Шоу «Семь. Хроника любовных происшествий» \n",
      " от 6000 рублей \n",
      "\n",
      "\n"
     ]
    }
   ],
   "source": [
    "html = bs(r.text, 'html.parser')\n",
    "event = []\n",
    "soup = html.find_all('div', class_=\"grid_i grid_i__desktop-grid-1-3 grid_i__tablet-grid-1-2 grid_i__phone-grid-1-1\")\n",
    "#s = soup[2]\n",
    "for s in soup:\n",
    "    title = s.find('a', class_='unit_t_a double-hover').get_text()\n",
    "    link = 'https://www.fiesta.ru' + s.find('a', class_='unit_t_a double-hover').get('href')\n",
    "    img = s.find('img').get('src')\n",
    "    # получаем дату события\n",
    "    date = s.find('p', class_='unit_date').get_text()\n",
    "    html_link = get_html(link)\n",
    "    html_event = bs(html_link.text, 'html.parser')\n",
    "    cost = html_event.find('div', class_='article_details').find_all('dd', class_='grid_i grid_i__desktop-grid-5-6 grid_i__tablet-grid-5-6 grid_i__phone-grid-1-1')[-1].get_text().strip()\n",
    "    # если чтоимости нет -> то в cost попадает дата события, необходимо проверить ее наличие\n",
    "    if any(x in cost for x in constant.date_format_kudago):\n",
    "        cost = None \n",
    "\n",
    "    print(title, '\\n' ,cost, '\\n\\n')\n",
    "    #print(cost, title, link, img, date,  '\\n', sep='\\n')\n",
    "\n"
   ]
  }
 ]
}