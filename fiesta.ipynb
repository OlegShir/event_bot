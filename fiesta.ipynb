{
 "metadata": {
  "language_info": {
   "codemirror_mode": {
    "name": "ipython",
    "version": 3
   },
   "file_extension": ".py",
   "mimetype": "text/x-python",
   "name": "python",
   "nbconvert_exporter": "python",
   "pygments_lexer": "ipython3",
   "version": "3.7.6"
  },
  "orig_nbformat": 2,
  "kernelspec": {
   "name": "python376jvsc74a57bd07f2fb41319d399c8c91a3eec84d3e6994a6b777073b543131b8d0dd527174eaa",
   "display_name": "Python 3.7.6 64-bit"
  },
  "metadata": {
   "interpreter": {
    "hash": "7f2fb41319d399c8c91a3eec84d3e6994a6b777073b543131b8d0dd527174eaa"
   }
  }
 },
 "nbformat": 4,
 "nbformat_minor": 2,
 "cells": [
  {
   "cell_type": "code",
   "execution_count": 1,
   "metadata": {},
   "outputs": [],
   "source": [
    "import constant\n",
    "import requests\n",
    "from bs4 import BeautifulSoup as bs\n",
    "import lxml\n",
    "import json\n",
    "import constant\n",
    "import ast\n",
    "import re"
   ]
  },
  {
   "cell_type": "code",
   "execution_count": 2,
   "metadata": {},
   "outputs": [],
   "source": [
    "def get_html(url):\n",
    "    headers = {'User-Agent': 'Mozilla/5.0 (Windows NT 10.0; Win64; x64) AppleWebKit/537.36 (KHTML, like Gecko) Chrome/89.0.4389.90 Safari/537.36'}\n",
    "    r = requests.get(url, headers = headers)\n",
    "    return r"
   ]
  },
  {
   "cell_type": "code",
   "execution_count": 3,
   "metadata": {},
   "outputs": [],
   "source": [
    " r = get_html('https://www.fiesta.ru/spb/novelty/events/')"
   ]
  },
  {
   "cell_type": "code",
   "execution_count": 40,
   "metadata": {},
   "outputs": [],
   "source": [
    "def fiesta_data_format(date):\n",
    "    symbol = [',', '–']\n",
    "    try:\n",
    "        symbol_sep = [s for s in symbol if s in date]\n",
    "        if symbol_sep:\n",
    "            date_array = date.split(symbol_sep[0])\n",
    "            date_start = date_array[0].strip()\n",
    "            date_stop = date_array[-1].strip()\n",
    "        else:\n",
    "            date_start = date\n",
    "            date_stop = None\n",
    "    except:\n",
    "        date_start = None\n",
    "        date_stop = None\n",
    "    return date_start, date_stop"
   ]
  },
  {
   "cell_type": "code",
   "execution_count": null,
   "metadata": {},
   "outputs": [],
   "source": [
    "id_parse, type_event, img, title, date_start, date_stop, cost, discounted, address, metro, link"
   ]
  },
  {
   "cell_type": "code",
   "execution_count": 4,
   "metadata": {
    "tags": []
   },
   "outputs": [
    {
     "output_type": "execute_result",
     "data": {
      "text/plain": [
       "\"\\nfor s in soup:\\n    id_parse = s.find('footer').attrs['data-calendar-item']\\n    type_event = 'fiesta' # !!!!!!!!!!\\n    img = 'https://www.fiesta.ru' + s.find('img').get('src')\\n    title = s.find('a', class_='unit_t_a double-hover').get_text()\\n    # получаем дату события\\n    date = s.find('p', class_='unit_date').get_text()\\n    date_start, date_stop = fiesta_data_format(date)\\n    link = 'https://www.fiesta.ru' + s.find('a', class_='unit_t_a double-hover').get('href')\\n     \\n    # получение цены\\n    cost_html_link = get_html(link)\\n    cost_html_event = bs(html_link.text, 'html.parser')\\n    cost = html_event.find('div', class_='article_details').find_all('dd', class_='grid_i grid_i__desktop-grid-5-6 grid_i__tablet-grid-5-6 grid_i__phone-grid-1-1')[-1].get_text().strip()\\n    # если чтоимости нет -> то в cost попадает дата события, необходимо проверить ее наличие\\n    if any(x in cost for x in constant.date_format_kudago):\\n        cost = None \\n\\n    discounted = '0'\\n    try:\\n        full_address = s.find('p', class_='unit_place').get_text()\\n        if full_address.startswith('м.'):\\n            sep_full_address = full_address.split(',')\\n            address = ''.join(sep_full_address[1:]).strip()\\n            metro = sep_full_address[0]\\n        else:\\n            address = full_address\\n            metro = None\\n    except:\\n        address = None\\n        metro = None\\n  \\n    print(id_parse, type_event, img, title, date_start, date_stop, address, metro, link , '\\n\\n', sep = '\\n')\\n    #print(cost, title, link, img, date,  '\\n', sep='\\n')\\n\""
      ]
     },
     "metadata": {},
     "execution_count": 4
    }
   ],
   "source": [
    "html = bs(r.text, 'html.parser')\n",
    "event = []\n",
    "soup = html.find_all('div', class_=\"grid_i grid_i__desktop-grid-1-3 grid_i__tablet-grid-1-2 grid_i__phone-grid-1-1\")\n",
    "s = soup[0]\n",
    "\n",
    "'''\n",
    "for s in soup:\n",
    "    id_parse = s.find('footer').attrs['data-calendar-item']\n",
    "    type_event = 'fiesta' # !!!!!!!!!!\n",
    "    img = 'https://www.fiesta.ru' + s.find('img').get('src')\n",
    "    title = s.find('a', class_='unit_t_a double-hover').get_text()\n",
    "    # получаем дату события\n",
    "    date = s.find('p', class_='unit_date').get_text()\n",
    "    date_start, date_stop = fiesta_data_format(date)\n",
    "    link = 'https://www.fiesta.ru' + s.find('a', class_='unit_t_a double-hover').get('href')\n",
    "     \n",
    "    # получение цены\n",
    "    cost_html_link = get_html(link)\n",
    "    cost_html_event = bs(html_link.text, 'html.parser')\n",
    "    cost = html_event.find('div', class_='article_details').find_all('dd', class_='grid_i grid_i__desktop-grid-5-6 grid_i__tablet-grid-5-6 grid_i__phone-grid-1-1')[-1].get_text().strip()\n",
    "    # если чтоимости нет -> то в cost попадает дата события, необходимо проверить ее наличие\n",
    "    if any(x in cost for x in constant.date_format_kudago):\n",
    "        cost = None \n",
    "\n",
    "    discounted = '0'\n",
    "    try:\n",
    "        full_address = s.find('p', class_='unit_place').get_text()\n",
    "        if full_address.startswith('м.'):\n",
    "            sep_full_address = full_address.split(',')\n",
    "            address = ''.join(sep_full_address[1:]).strip()\n",
    "            metro = sep_full_address[0]\n",
    "        else:\n",
    "            address = full_address\n",
    "            metro = None\n",
    "    except:\n",
    "        address = None\n",
    "        metro = None\n",
    "  \n",
    "    print(id_parse, type_event, img, title, date_start, date_stop, address, metro, link , '\\n\\n', sep = '\\n')\n",
    "    #print(cost, title, link, img, date,  '\\n', sep='\\n')\n",
    "'''\n"
   ]
  },
  {
   "cell_type": "code",
   "execution_count": 6,
   "metadata": {},
   "outputs": [
    {
     "output_type": "stream",
     "name": "stdout",
     "text": [
      "46855\n"
     ]
    }
   ],
   "source": [
    "id_parse = s.find('footer').attrs['data-calendar-item']\n",
    "print(id_parse)"
   ]
  },
  {
   "cell_type": "code",
   "execution_count": 73,
   "metadata": {},
   "outputs": [
    {
     "output_type": "stream",
     "name": "stdout",
     "text": [
      "Кожевенная линия 40 2-й этаж пространство «Севкабель Порт»\nм. Василеостровская\n"
     ]
    }
   ],
   "source": [
    "full_address = 'м. Василеостровская, Кожевенная линия, 40, 2-й этаж, пространство «Севкабель Порт»'\n",
    "if full_address.startswith('м.'):\n",
    "    sep_full_address = full_address.split(',')\n",
    "    address = ''.join(sep_full_address[1:]).strip()\n",
    "    metro = sep_full_address[0]\n",
    "    print(address)\n",
    "    print(metro)"
   ]
  },
  {
   "cell_type": "code",
   "execution_count": null,
   "metadata": {},
   "outputs": [],
   "source": []
  }
 ]
}